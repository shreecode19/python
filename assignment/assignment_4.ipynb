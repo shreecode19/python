{
  "nbformat": 4,
  "nbformat_minor": 0,
  "metadata": {
    "colab": {
      "name": "assignment_4.ipynb",
      "provenance": [],
      "collapsed_sections": [],
      "authorship_tag": "ABX9TyNlmrli7B6XBNXqV2l1iD+J",
      "include_colab_link": true
    },
    "kernelspec": {
      "name": "python3",
      "display_name": "Python 3"
    },
    "language_info": {
      "name": "python"
    }
  },
  "cells": [
    {
      "cell_type": "markdown",
      "metadata": {
        "id": "view-in-github",
        "colab_type": "text"
      },
      "source": [
        "<a href=\"https://colab.research.google.com/github/shreecode19/python/blob/main/assignment_4.ipynb\" target=\"_parent\"><img src=\"https://colab.research.google.com/assets/colab-badge.svg\" alt=\"Open In Colab\"/></a>"
      ]
    },
    {
      "cell_type": "markdown",
      "metadata": {
        "id": "m9oiOgLuSYim"
      },
      "source": [
        "1)Write a python program to find the largest of three numbers ."
      ]
    },
    {
      "cell_type": "code",
      "metadata": {
        "colab": {
          "base_uri": "https://localhost:8080/"
        },
        "id": "GRXDQB-aTZ5n",
        "outputId": "65fe6922-fe54-4ccb-eb38-9efd23a81b80"
      },
      "source": [
        "a = input(\"enter first number: \",)\n",
        "b = input(\"enter second number: \",)\n",
        "c = input(\"enter third number: \",)\n",
        "\n",
        "if a>b and a>c :\n",
        " print(\"the largest number is {}.\" .format(a))\n",
        "\n",
        "elif b>a and b>c :\n",
        " print(\"the largest number is {}.\" .format(b))\n",
        "\n",
        "else :\n",
        " print(\"the largest number is {}.\" .format(c))"
      ],
      "execution_count": 4,
      "outputs": [
        {
          "output_type": "stream",
          "text": [
            "enter first number: 2\n",
            "enter second number: 4\n",
            "enter third number: -1\n",
            "the largest number is 4.\n"
          ],
          "name": "stdout"
        }
      ]
    },
    {
      "cell_type": "markdown",
      "metadata": {
        "id": "1JBsr3qVSdv-"
      },
      "source": [
        "2)Write a python program to check whether a character is uppercase or lowercase alphabet."
      ]
    },
    {
      "cell_type": "code",
      "metadata": {
        "colab": {
          "base_uri": "https://localhost:8080/"
        },
        "id": "vWkeRPkWTtwa",
        "outputId": "e0fc00aa-475a-49c1-acfd-31569f3cb423"
      },
      "source": [
        "ch = input(\"enter a alphabet: \")\n",
        "\n",
        "if (ch >= 'A' and ch <= 'Z'):\n",
        "  \n",
        "  print(\"\\\"{}\\\" is an UpperCase alphabet\" .format(ch))\n",
        "\n",
        "elif (ch >= 'a' and ch <= 'z'):\n",
        "\n",
        "  print(\"\\\"{}\\\" is a LowerCase character\" .format(ch))\n",
        "\n",
        "else:\n",
        "\n",
        "  print(\"Error!!! \\\"{}\\\" is not an Alphabet!!! \" .format(ch))\n"
      ],
      "execution_count": 16,
      "outputs": [
        {
          "output_type": "stream",
          "text": [
            "enter a alphabet: S\n",
            "\"S\" is an UpperCase alphabet\n"
          ],
          "name": "stdout"
        }
      ]
    },
    {
      "cell_type": "markdown",
      "metadata": {
        "id": "ypS6-BVKSrpb"
      },
      "source": [
        "3) WAP to find whether given input is number or character."
      ]
    },
    {
      "cell_type": "code",
      "metadata": {
        "colab": {
          "base_uri": "https://localhost:8080/"
        },
        "id": "7HQGF9ihTuf9",
        "outputId": "f570b4fa-1f24-4503-8718-c16d3065dcd3"
      },
      "source": [
        "ch = input(\"Please enter a Character : \")\n",
        "\n",
        "if((ch >= 'a' and ch <= 'z') or (ch >= 'A' and ch <= 'Z')): \n",
        "\n",
        "  print(\"\\nYour given input \\\"{}\\\" is an Alphabetical Character.\" .format(ch)) \n",
        "\n",
        "elif(ch >= '0' and ch <= '9'):\n",
        "\n",
        "  print(\"\\nYour given input \\\"{}\\\" is a Number.\" .format(ch)) \n",
        "\n",
        "else:\n",
        "\n",
        "  print(\"\\nYour given input \\\"{}\\\" is a Special Character.\" .format(ch)) \n",
        "\n"
      ],
      "execution_count": 20,
      "outputs": [
        {
          "output_type": "stream",
          "text": [
            "Please enter a Character : 56\n",
            "\n",
            "Your given input \"56\" is a Number.\n"
          ],
          "name": "stdout"
        }
      ]
    },
    {
      "cell_type": "markdown",
      "metadata": {
        "id": "yeH_Ub5sS2v1"
      },
      "source": [
        "4)Write a program to check whether the input alphabet is vowel or not using if-else."
      ]
    },
    {
      "cell_type": "code",
      "metadata": {
        "colab": {
          "base_uri": "https://localhost:8080/"
        },
        "id": "V5m7kfe-Tvg5",
        "outputId": "7e487b3e-1e82-425b-c8bf-e71d905b64cb"
      },
      "source": [
        "def check(ch):\n",
        "\n",
        "  if(ch == 'a' or ch == 'e' or ch == 'i' or ch == 'o' or ch == 'u' or ch == 'A' or ch == 'E' or ch == 'I' or ch == 'O' or ch == 'U'): \n",
        "\n",
        "    print(\"Your given input \\\"{}\\\" is a vowel.\" .format(ch)) \n",
        "\n",
        "  else:\n",
        "\n",
        "    print(\"Your given input \\\"{}\\\" is not a vowel.\" .format(ch))\n",
        "\n",
        "ch = input(\"Please enter an alphabet: \")\n",
        "\n",
        "check(ch)"
      ],
      "execution_count": 21,
      "outputs": [
        {
          "output_type": "stream",
          "text": [
            "Please enter an alphabet: I\n",
            "Your given input \"I\" is a vowel.\n"
          ],
          "name": "stdout"
        }
      ]
    },
    {
      "cell_type": "markdown",
      "metadata": {
        "id": "8dBFKgDfS8A5"
      },
      "source": [
        " 5)Write a program to check whether the entered year is leap year or not."
      ]
    },
    {
      "cell_type": "code",
      "metadata": {
        "colab": {
          "base_uri": "https://localhost:8080/"
        },
        "id": "zGI9oucJTwEY",
        "outputId": "baf83b95-57c7-4822-f70d-6b9b44fe2926"
      },
      "source": [
        "year = int(input(\"Enter a year: \"))\n",
        "\n",
        "if (year % 4) == 0:\n",
        "   \n",
        "   if (year % 100) == 0:\n",
        "       \n",
        "       if (year % 400) == 0:\n",
        "         \n",
        "           print(\"{} is a leap year\".format(year))\n",
        "       \n",
        "       else:\n",
        "       \n",
        "           print(\"{} is not a leap year\".format(year))\n",
        "   else:\n",
        "       \n",
        "       print(\"{} is a leap year\".format(year))\n",
        "\n",
        "else:\n",
        "\n",
        "   print(\"{} is not a leap year\".format(year))"
      ],
      "execution_count": 25,
      "outputs": [
        {
          "output_type": "stream",
          "text": [
            "Enter a year: 2012\n",
            "2012 is a leap year\n"
          ],
          "name": "stdout"
        }
      ]
    },
    {
      "cell_type": "markdown",
      "metadata": {
        "id": "f9FUQY4NTJUf"
      },
      "source": [
        "6)Write a program to check if the number is Armstrong or not"
      ]
    },
    {
      "cell_type": "code",
      "metadata": {
        "colab": {
          "base_uri": "https://localhost:8080/"
        },
        "id": "37pAxcD7TxpR",
        "outputId": "6cbb27a1-491f-43ac-e5e9-24a4a2b8c88e"
      },
      "source": [
        "num = int(input(\"Enter a number: \"))  \n",
        "\n",
        "sum = 0  \n",
        "\n",
        "a = num  \n",
        "  \n",
        "while a > 0:  \n",
        "  \n",
        "   b = a % 10  \n",
        "  \n",
        "   sum += b ** 3  \n",
        "  \n",
        "   a //= 10  \n",
        "  \n",
        "if num == sum:  \n",
        " \n",
        "   print(num,\"is an Armstrong number!!!\")  \n",
        "else:  \n",
        " \n",
        "   print(num,\"is not an Armstrong number!!!\")"
      ],
      "execution_count": 28,
      "outputs": [
        {
          "output_type": "stream",
          "text": [
            "Enter a number: 1\n",
            "1 is an Armstrong number!!!\n"
          ],
          "name": "stdout"
        }
      ]
    },
    {
      "cell_type": "markdown",
      "metadata": {
        "id": "bKcYQYDJTNHG"
      },
      "source": [
        "7)Write a program to compute the grade from marks. \n",
        "\n",
        "Marks\n",
        "\n",
        "Grade\n",
        "\n",
        "Marks<=50\n",
        "\n",
        "F\n",
        "\n",
        "60>=marks>50\n",
        "\n",
        "E\n",
        "\n",
        "70>= marks > 60\n",
        "\n",
        "D\n",
        "\n",
        "80>= marks > 70\n",
        "\n",
        "C\n",
        "\n",
        "90 > = marks > 80\n",
        "\n",
        "B\n",
        "\n",
        "100>= marks >90\n",
        "\n",
        " A\n",
        " "
      ]
    },
    {
      "cell_type": "code",
      "metadata": {
        "colab": {
          "base_uri": "https://localhost:8080/"
        },
        "id": "A35Fw0S3TyS6",
        "outputId": "7807190c-7c4c-4833-f9f4-7493c6b0994f"
      },
      "source": [
        "marks = int(input(\"Enter your marks: \"))\n",
        "\n",
        "if (100>= marks >90):\n",
        "\n",
        "  print(\"You obtained grade \\'A\\'.\") \n",
        " \n",
        "elif (90 >= marks > 80):\n",
        "\n",
        "  print(\"You obtained grade \\'B\\'.\") \n",
        "\n",
        "elif (80>= marks > 70):\n",
        "  \n",
        "  print(\"You obtained \\'C\\'.\") \n",
        "\n",
        "elif (70>= marks > 60):\n",
        "  \n",
        "  print(\"You obtained \\'D\\'.\")\n",
        "\n",
        "elif (60>=marks>50):\n",
        "  \n",
        "  print(\"You obtained \\'E\\'.\")  \n",
        "\n",
        "else:\n",
        "\n",
        "  print(\"You obtained \\'F\\'. Study Harder!!!\")"
      ],
      "execution_count": 32,
      "outputs": [
        {
          "output_type": "stream",
          "text": [
            "Enter your marks: 90\n",
            "You obtained grade 'B'.\n"
          ],
          "name": "stdout"
        }
      ]
    }
  ]
}