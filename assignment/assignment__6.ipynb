{
  "nbformat": 4,
  "nbformat_minor": 0,
  "metadata": {
    "colab": {
      "name": "assignment__6.ipynb",
      "provenance": [],
      "collapsed_sections": [],
      "authorship_tag": "ABX9TyNVGWkfbuCkZQjoBtkr1+P8",
      "include_colab_link": true
    },
    "kernelspec": {
      "name": "python3",
      "display_name": "Python 3"
    },
    "language_info": {
      "name": "python"
    }
  },
  "cells": [
    {
      "cell_type": "markdown",
      "metadata": {
        "id": "view-in-github",
        "colab_type": "text"
      },
      "source": [
        "<a href=\"https://colab.research.google.com/github/shreecode19/python/blob/main/assignment__6.ipynb\" target=\"_parent\"><img src=\"https://colab.research.google.com/assets/colab-badge.svg\" alt=\"Open In Colab\"/></a>"
      ]
    },
    {
      "cell_type": "markdown",
      "metadata": {
        "id": "RSTcy6MeJfUF"
      },
      "source": [
        "1)bird = ['crows','pigeon','eagles','falcon','pigeon','falcon','falcon']\n",
        "Remove all the duplicates from the following list using while.\n"
      ]
    },
    {
      "cell_type": "code",
      "metadata": {
        "colab": {
          "base_uri": "https://localhost:8080/"
        },
        "id": "IBro3zCdN0ap",
        "outputId": "aeb2fc53-5ced-4f40-bf80-01193dc5faa3"
      },
      "source": [
        "bird = ['crows','pigeon','eagles','falcon','pigeon','falcon','falcon']\n",
        "\n",
        "i = 0\n",
        "\n",
        "while i < len(bird):\n",
        "\n",
        "  j = i + 1\n",
        "  \n",
        "  while j < len(bird):\n",
        "      \n",
        "      if bird[i] == bird[j]:\n",
        "       \n",
        "        del bird[j]\n",
        "     \n",
        "      else:\n",
        "       \n",
        "        j += 1\n",
        "  i += 1\n",
        "\n",
        "print(bird)\n"
      ],
      "execution_count": null,
      "outputs": [
        {
          "output_type": "stream",
          "text": [
            "['crows', 'pigeon', 'eagles', 'falcon']\n"
          ],
          "name": "stdout"
        }
      ]
    },
    {
      "cell_type": "markdown",
      "metadata": {
        "id": "5Zr8wpDeJkPL"
      },
      "source": [
        "2)Deli: Make a list called sandwich_orders and fill it with the names of various sandwiches. Then make an empty list called finished_sandwiches . Loop through the list of sandwich orders and print a message for each order, such as I made your tuna sandwich. As each sandwich is made, move it to the list of finished sandwiches. After all the sandwiches have been made, print a message listing each sandwich that was made.\n"
      ]
    },
    {
      "cell_type": "code",
      "metadata": {
        "colab": {
          "base_uri": "https://localhost:8080/"
        },
        "id": "yRZfCUCPz4Lq",
        "outputId": "e52331c2-bcc7-4455-cd54-1811b041cca5"
      },
      "source": [
        "sandwich_orders = ['Egg Sandwich','Mushroom Sandwich','Mackarel Sandwich','Tuna Sandwich','Ham Sandwich','Chicken Sandwich','Cheese Sandwich']\n",
        "\n",
        "finished_sandwiches = []\n",
        "\n",
        "while sandwich_orders:\n",
        "\n",
        "    a = sandwich_orders.pop()\n",
        "\n",
        "    print(\"I made your \" + a + \".\")\n",
        "\n",
        "    finished_sandwiches.append(a)\n",
        "\n",
        "print(\"\\n\")\n",
        "\n",
        "print(finished_sandwiches)"
      ],
      "execution_count": null,
      "outputs": [
        {
          "output_type": "stream",
          "text": [
            "I made your Cheese Sandwich.\n",
            "I made your Chicken Sandwich.\n",
            "I made your Ham Sandwich.\n",
            "I made your Tuna Sandwich.\n",
            "I made your Mackarel Sandwich.\n",
            "I made your Mushroom Sandwich.\n",
            "I made your Egg Sandwich.\n",
            "\n",
            "\n",
            "['Cheese Sandwich', 'Chicken Sandwich', 'Ham Sandwich', 'Tuna Sandwich', 'Mackarel Sandwich', 'Mushroom Sandwich', 'Egg Sandwich']\n"
          ],
          "name": "stdout"
        }
      ]
    },
    {
      "cell_type": "markdown",
      "metadata": {
        "id": "w3aLEFI4Jnwj"
      },
      "source": [
        "3)Dream Vacation: Write a program that polls users about their dream vacation. Write a prompt similar to If you could visit one place in the world, where would you go? Include a block of code that prints the results of the poll."
      ]
    },
    {
      "cell_type": "code",
      "metadata": {
        "colab": {
          "base_uri": "https://localhost:8080/"
        },
        "id": "ILaXViIf0Ypu",
        "outputId": "4b57b1d6-7bc0-41a5-c196-d31aae998d94"
      },
      "source": [
        "dream_place = []\n",
        "\n",
        "prompt = \"\\nIf you could visit one place in the world, where would you go?\"\n",
        "\n",
        "prompt += \"\\nEnter 'quit' to end the program. \"\n",
        "\n",
        "active = True\n",
        "\n",
        "while active:\n",
        "\n",
        "  place = input(prompt)\n",
        "\n",
        "  dream_place.append(place)\n",
        "\n",
        "  if place == 'quit':\n",
        "\n",
        "    active = False\n",
        "    \n",
        "    dream_place.remove('quit')\n",
        "\n",
        "    break\n",
        "  \n",
        "  else:\n",
        "  \n",
        "    print(\"The place you want to go is \" + place + \".\")\n",
        "\n",
        "print(dream_place)"
      ],
      "execution_count": null,
      "outputs": [
        {
          "output_type": "stream",
          "text": [
            "\n",
            "If you could visit one place in the world, where would you go?\n",
            "Enter 'quit' to end the program. ktm\n",
            "The place you want to go is ktm.\n",
            "\n",
            "If you could visit one place in the world, where would you go?\n",
            "Enter 'quit' to end the program. pokhara\n",
            "The place you want to go is pokhara.\n",
            "\n",
            "If you could visit one place in the world, where would you go?\n",
            "Enter 'quit' to end the program. sagarmatha\n",
            "The place you want to go is sagarmatha.\n",
            "\n",
            "If you could visit one place in the world, where would you go?\n",
            "Enter 'quit' to end the program. china\n",
            "The place you want to go is china.\n",
            "\n",
            "If you could visit one place in the world, where would you go?\n",
            "Enter 'quit' to end the program. quit\n",
            "['ktm', 'pokhara', 'sagarmatha', 'china']\n"
          ],
          "name": "stdout"
        }
      ]
    }
  ]
}