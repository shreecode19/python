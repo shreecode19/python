{
  "nbformat": 4,
  "nbformat_minor": 0,
  "metadata": {
    "colab": {
      "name": "Assignment_2.ipynb",
      "provenance": [],
      "collapsed_sections": [],
      "authorship_tag": "ABX9TyOgrENKuYqIRs+Fb6HFO9/w",
      "include_colab_link": true
    },
    "kernelspec": {
      "name": "python3",
      "display_name": "Python 3"
    },
    "language_info": {
      "name": "python"
    }
  },
  "cells": [
    {
      "cell_type": "markdown",
      "metadata": {
        "id": "view-in-github",
        "colab_type": "text"
      },
      "source": [
        "<a href=\"https://colab.research.google.com/github/shreecode19/python/blob/main/Assignment_2.ipynb\" target=\"_parent\"><img src=\"https://colab.research.google.com/assets/colab-badge.svg\" alt=\"Open In Colab\"/></a>"
      ]
    },
    {
      "cell_type": "markdown",
      "metadata": {
        "id": "bYVgowMe0OmG"
      },
      "source": [
        "1)Convert tuples to list."
      ]
    },
    {
      "cell_type": "code",
      "metadata": {
        "colab": {
          "base_uri": "https://localhost:8080/"
        },
        "id": "dCJq_wco0TLF",
        "outputId": "d664b806-9862-4189-b6e6-4534e705ac2c"
      },
      "source": [
        "aTuples = (123, 'x','y','abc')\n",
        "\n",
        "alist = list(aTuples)\n",
        "\n",
        "print(\"list elements: \",alist)"
      ],
      "execution_count": null,
      "outputs": [
        {
          "output_type": "stream",
          "text": [
            "list elements:  [123, 'x', 'y', 'abc']\n"
          ],
          "name": "stdout"
        }
      ]
    },
    {
      "cell_type": "markdown",
      "metadata": {
        "id": "UosSKVAc1Qju"
      },
      "source": [
        "2)Write a program to calculate direction and magnitude of the vector described by the following points.\n",
        "A = (20,30)\n",
        "B = (30,40)\n"
      ]
    },
    {
      "cell_type": "code",
      "metadata": {
        "id": "dIoS4v-T1QQd",
        "colab": {
          "base_uri": "https://localhost:8080/"
        },
        "outputId": "a0cb8714-3d16-433e-9ea0-7367a467a134"
      },
      "source": [
        "import math\n",
        "\n",
        "A = (20,30)\n",
        "\n",
        "B = (30,40)\n",
        "\n",
        "#magnitude calculation start\n",
        "\n",
        "x = (B[0]-A[0])**2\n",
        "\n",
        "y = (B[1]-A[1])**2\n",
        "\n",
        "z = math.sqrt(x+y)\n",
        "\n",
        "print(\"the magnitude of vector AB is {}\" .format(z))\n",
        "\n",
        "\n",
        "#direction calculation start\n",
        "\n",
        "M = math.atan((B[1]-A[1])/(B[0]-A[0]))\n",
        "\n",
        "d = math.degrees(M)\n",
        "\n",
        "print(\"the direction of vector AB is {}\" .format(d))\n"
      ],
      "execution_count": null,
      "outputs": [
        {
          "output_type": "stream",
          "text": [
            "the magnitude of vector AB is 14.142135623730951\n",
            "the direction of vector AB is 45.0\n"
          ],
          "name": "stdout"
        }
      ]
    },
    {
      "cell_type": "markdown",
      "metadata": {
        "id": "npGrsVMF1tRf"
      },
      "source": [
        "3)Write a program to demonstrate data types that can be elements of a tuple."
      ]
    },
    {
      "cell_type": "code",
      "metadata": {
        "id": "YP3OHVBS1xD8",
        "colab": {
          "base_uri": "https://localhost:8080/"
        },
        "outputId": "deec7543-f720-45fa-d167-c17062ef46f9"
      },
      "source": [
        "myTuples = (1 , \"hello\" , 2.55555 , 8j , False , range(6) , b\"hi\", bytearray(2) , memoryview(bytes(4)), (1, \"fish\"), [\"pekka\"], {2,3})\n",
        "\n",
        "a=type(myTuples[0])\n",
        "\n",
        "b=type(myTuples[1])\n",
        "\n",
        "c=type(myTuples[2])\n",
        "\n",
        "d=type(myTuples[3])\n",
        "\n",
        "e=type(myTuples[4])\n",
        "\n",
        "f=type(myTuples[5])\n",
        "\n",
        "g=type(myTuples[6])\n",
        "\n",
        "h=type(myTuples[7])\n",
        "\n",
        "i=type(myTuples[8])\n",
        "\n",
        "j=type(myTuples[9])\n",
        "\n",
        "k=type(myTuples[10])\n",
        "\n",
        "l=type(myTuples[11])\n",
        "\n",
        "print(\"the data types that can be elements of tuples are: {}, {}, {}, {}, {}, {}, {}, {}, {}, {}, {}, {}\".format(a,b,c,d,e,f,g,h,i,j,k,l))\n"
      ],
      "execution_count": null,
      "outputs": [
        {
          "output_type": "stream",
          "text": [
            "the data types that can be elements of tuples are: <class 'int'>, <class 'str'>, <class 'float'>, <class 'complex'>, <class 'bool'>, <class 'range'>, <class 'bytes'>, <class 'bytearray'>, <class 'memoryview'>, <class 'tuple'>, <class 'list'>, <class 'set'>\n"
          ],
          "name": "stdout"
        }
      ]
    }
  ]
}