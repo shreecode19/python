{
  "nbformat": 4,
  "nbformat_minor": 0,
  "metadata": {
    "colab": {
      "name": "assignment_X.ipynb",
      "provenance": [],
      "collapsed_sections": [],
      "include_colab_link": true
    },
    "kernelspec": {
      "name": "python3",
      "display_name": "Python 3"
    },
    "language_info": {
      "name": "python"
    }
  },
  "cells": [
    {
      "cell_type": "markdown",
      "metadata": {
        "id": "view-in-github",
        "colab_type": "text"
      },
      "source": [
        "<a href=\"https://colab.research.google.com/github/shreecode19/python/blob/main/assignment_X.ipynb\" target=\"_parent\"><img src=\"https://colab.research.google.com/assets/colab-badge.svg\" alt=\"Open In Colab\"/></a>"
      ]
    },
    {
      "cell_type": "markdown",
      "metadata": {
        "id": "XJae1IDKpn_8"
      },
      "source": [
        "1. Find the inverse of the following matrices."
      ]
    },
    {
      "cell_type": "code",
      "metadata": {
        "id": "uQQrtt-_rBA0"
      },
      "source": [
        "#matrix A is not a square matrix... so inverse is not possible"
      ],
      "execution_count": null,
      "outputs": []
    },
    {
      "cell_type": "code",
      "metadata": {
        "colab": {
          "base_uri": "https://localhost:8080/"
        },
        "id": "MgzxkV60kBo7",
        "outputId": "b28fba2a-3ca3-4dfe-ea02-c291dd510d70"
      },
      "source": [
        "import numpy as np\n",
        "B = np.array([[1,2,3],\n",
        "     [55,66,7],\n",
        "     [6,7,12]])\n",
        "inverse_array = np.linalg.inv(B)\n",
        "print(\"Inverse array is \")\n",
        "print(inverse_array)\n",
        "print()"
      ],
      "execution_count": 2,
      "outputs": [
        {
          "output_type": "stream",
          "text": [
            "Inverse array is \n",
            "[[-1.41254753  0.00570342  0.34980989]\n",
            " [ 1.17490494  0.01140684 -0.30038023]\n",
            " [ 0.02091255 -0.0095057   0.08365019]]\n",
            "\n"
          ],
          "name": "stdout"
        }
      ]
    },
    {
      "cell_type": "code",
      "metadata": {
        "id": "6uyHeFLVjKOA",
        "colab": {
          "base_uri": "https://localhost:8080/"
        },
        "outputId": "0da975cf-497b-43ff-eec9-f9186402e2e8"
      },
      "source": [
        "import numpy as np\n",
        "\n",
        "arr = np.array([[1,2,3,8],\n",
        "     [5,6,7,5],\n",
        "     [6,7,12,12],\n",
        "     [11,12,13,20]])\n",
        "  \n",
        "inverse_array = np.linalg.inv(arr)\n",
        "\n",
        "print(\"Inverse array is \")\n",
        "\n",
        "print(inverse_array)\n",
        "\n",
        "print()"
      ],
      "execution_count": 3,
      "outputs": [
        {
          "output_type": "stream",
          "text": [
            "Inverse array is \n",
            "[[-0.85576923 -0.78205128  0.25        0.38782051]\n",
            " [ 0.75        1.         -0.5        -0.25      ]\n",
            " [-0.08653846 -0.06410256  0.25       -0.09935897]\n",
            " [ 0.07692308 -0.12820513 -0.          0.05128205]]\n",
            "\n"
          ],
          "name": "stdout"
        }
      ]
    },
    {
      "cell_type": "markdown",
      "metadata": {
        "id": "KkdJZFrZquPQ"
      },
      "source": [
        "2. Find the values of x1, x2 and x3\n",
        "5x1 + 4 x2 + 3 x3 = 5\n",
        "6x1 - 8x2   + 7x3 = 15\n",
        "X1   - x2     +10x3 = 25      \n"
      ]
    },
    {
      "cell_type": "code",
      "metadata": {
        "id": "ENd2_8W2msle",
        "colab": {
          "base_uri": "https://localhost:8080/"
        },
        "outputId": "f3d6e16d-3bd7-46b2-868c-45e4a3a349ad"
      },
      "source": [
        "import numpy as np\n",
        "\n",
        "A = np.array([[5, 4, 3],\n",
        "              [6, -8, 7],\n",
        "              [1, -1, 10]])\n",
        "\n",
        "b = np.array([5, 15, 25])\n",
        "\n",
        "x = np.linalg.solve(A, b)\n",
        "\n",
        "print(x)"
      ],
      "execution_count": 4,
      "outputs": [
        {
          "output_type": "stream",
          "text": [
            "[-0.50788091 -0.0262697   2.54816112]\n"
          ],
          "name": "stdout"
        }
      ]
    },
    {
      "cell_type": "markdown",
      "metadata": {
        "id": "AtGmqEsarM7U"
      },
      "source": [
        "3.  Write a NumPy program to create an array of 10 zeros,10 ones, 10 fives."
      ]
    },
    {
      "cell_type": "code",
      "metadata": {
        "id": "mk5379lNmzvO",
        "colab": {
          "base_uri": "https://localhost:8080/"
        },
        "outputId": "64fcc918-2e2a-4fc4-a40b-09474f38e5e8"
      },
      "source": [
        "import numpy as np\n",
        "\n",
        "array=np.zeros(10)\n",
        "\n",
        "print(\"An array of 10 zeros:\")\n",
        "\n",
        "print(array)\n",
        "\n",
        "array=np.ones(10)\n",
        "\n",
        "print(\"An array of 10 ones:\")\n",
        "\n",
        "print(array)\n",
        "\n",
        "array=np.ones(10)*5\n",
        "\n",
        "print(\"An array of 10 fives:\")\n",
        "\n",
        "print(array)"
      ],
      "execution_count": 5,
      "outputs": [
        {
          "output_type": "stream",
          "text": [
            "An array of 10 zeros:\n",
            "[0. 0. 0. 0. 0. 0. 0. 0. 0. 0.]\n",
            "An array of 10 ones:\n",
            "[1. 1. 1. 1. 1. 1. 1. 1. 1. 1.]\n",
            "An array of 10 fives:\n",
            "[5. 5. 5. 5. 5. 5. 5. 5. 5. 5.]\n"
          ],
          "name": "stdout"
        }
      ]
    },
    {
      "cell_type": "markdown",
      "metadata": {
        "id": "Y8ofGqlarbA4"
      },
      "source": [
        "4. Write a NumPy program to compute the eigenvalues and eigenvectors of a given square array.\n",
        "\n",
        " B = [[1,2,3],\n",
        "     [55,66,7],\n",
        "     [6,7,12]]"
      ]
    },
    {
      "cell_type": "code",
      "metadata": {
        "id": "PJ1Gw7wXmz1m",
        "colab": {
          "base_uri": "https://localhost:8080/"
        },
        "outputId": "3238f04c-0898-488b-fd36-cfd76b71aafb"
      },
      "source": [
        "import numpy as np\n",
        "\n",
        "m = np.mat(\"1 2 3;55 66 7;6 7 12\")\n",
        "\n",
        "print(\"B:\")\n",
        "\n",
        "print(\"\\n\", m)\n",
        "\n",
        "w, v = np.linalg.eig(m) \n",
        "\n",
        "print( \"Eigenvalues of the matrix\",w)\n",
        "\n",
        "print( \"Eigenvectors of the matrix\",v)"
      ],
      "execution_count": 6,
      "outputs": [
        {
          "output_type": "stream",
          "text": [
            "B:\n",
            "\n",
            " [[ 1  2  3]\n",
            " [55 66  7]\n",
            " [ 6  7 12]]\n",
            "Eigenvalues of the matrix [68.81905127 -0.70229368 10.88324241]\n",
            "Eigenvectors of the matrix [[ 0.03480353  0.77221412  0.21267997]\n",
            " [ 0.99144253 -0.6351919  -0.32907749]\n",
            " [ 0.12581905 -0.01471714  0.92004089]]\n"
          ],
          "name": "stdout"
        }
      ]
    },
    {
      "cell_type": "markdown",
      "metadata": {
        "id": "9fmxg7oprl84"
      },
      "source": [
        "5. Write a NumPy program to generate five random numbers from the normal distribution."
      ]
    },
    {
      "cell_type": "code",
      "metadata": {
        "id": "XCYQ1Ehmm6yT",
        "colab": {
          "base_uri": "https://localhost:8080/"
        },
        "outputId": "df9bc6ad-383d-4311-896d-39597b8a0257"
      },
      "source": [
        "import numpy as np\n",
        "\n",
        "x = np.random.normal(size=5)\n",
        "\n",
        "print(x)"
      ],
      "execution_count": 7,
      "outputs": [
        {
          "output_type": "stream",
          "text": [
            "[-0.21567736  1.2811615   2.09388079  0.46443146 -0.70724901]\n"
          ],
          "name": "stdout"
        }
      ]
    },
    {
      "cell_type": "markdown",
      "metadata": {
        "id": "FGJ2jAl8ruOk"
      },
      "source": [
        "6. Write a NumPy program to generate six random integers between 10 and 30.\n"
      ]
    },
    {
      "cell_type": "code",
      "metadata": {
        "id": "Iy_uG_pynImi",
        "colab": {
          "base_uri": "https://localhost:8080/"
        },
        "outputId": "87397532-6ed3-442a-e50b-176642a00a33"
      },
      "source": [
        "import numpy as np\n",
        "\n",
        "x = np.random.randint(low=10, high=30, size=6)\n",
        "\n",
        "print(x)"
      ],
      "execution_count": 8,
      "outputs": [
        {
          "output_type": "stream",
          "text": [
            "[17 12 17 16 20 13]\n"
          ],
          "name": "stdout"
        }
      ]
    },
    {
      "cell_type": "markdown",
      "metadata": {
        "id": "zizvk225ry5A"
      },
      "source": [
        "7. Write a NumPy program to create a 3x3x3 array with random values."
      ]
    },
    {
      "cell_type": "code",
      "metadata": {
        "id": "N4NVEME0nbFj",
        "colab": {
          "base_uri": "https://localhost:8080/"
        },
        "outputId": "8af8538b-da1f-4230-ea32-73ac7df9da3c"
      },
      "source": [
        "import numpy as np\n",
        "\n",
        "x = np.random.random((3,3,3))\n",
        "\n",
        "print(x)"
      ],
      "execution_count": 9,
      "outputs": [
        {
          "output_type": "stream",
          "text": [
            "[[[3.39821489e-01 9.29138512e-01 2.25219155e-01]\n",
            "  [4.54109244e-01 4.55877827e-01 5.20454073e-01]\n",
            "  [3.85198901e-01 4.76849298e-01 3.17769981e-01]]\n",
            "\n",
            " [[7.28185203e-01 1.60536770e-01 1.44600462e-01]\n",
            "  [7.78200366e-01 1.67837085e-01 6.82512591e-01]\n",
            "  [4.54240408e-01 9.79116245e-02 3.64824731e-02]]\n",
            "\n",
            " [[7.86358755e-02 4.31579227e-01 1.69854022e-04]\n",
            "  [3.23373984e-01 4.69908868e-01 6.46687032e-01]\n",
            "  [9.08755515e-01 1.86447083e-01 4.13289444e-01]]]\n"
          ],
          "name": "stdout"
        }
      ]
    },
    {
      "cell_type": "markdown",
      "metadata": {
        "id": "JnVTmCWIr9cA"
      },
      "source": [
        "8. `Write a NumPy program to create a 5x5 array with random values and find the minimum and maximum values."
      ]
    },
    {
      "cell_type": "code",
      "metadata": {
        "id": "jVCyJhS2nyX7",
        "colab": {
          "base_uri": "https://localhost:8080/"
        },
        "outputId": "f12268aa-af2f-4610-efe4-a798484da8a8"
      },
      "source": [
        "import numpy as np\n",
        "\n",
        "x = np.random.random((5,5))\n",
        "\n",
        "print(\"Array:\")\n",
        "\n",
        "print(x) \n",
        "\n",
        "xmin, xmax = x.min(), x.max()\n",
        "\n",
        "print(\"Minimum and Maximum Values:\")\n",
        "\n",
        "print(xmin, xmax)"
      ],
      "execution_count": 10,
      "outputs": [
        {
          "output_type": "stream",
          "text": [
            "Array:\n",
            "[[0.63106055 0.87682009 0.41378136 0.8778041  0.17717488]\n",
            " [0.462186   0.96428649 0.52684014 0.64503829 0.95647916]\n",
            " [0.23772475 0.73828439 0.42683057 0.92163842 0.56928993]\n",
            " [0.21296402 0.49556653 0.20781847 0.86534934 0.60370398]\n",
            " [0.35017074 0.41423278 0.20441772 0.7949751  0.17133526]]\n",
            "Minimum and Maximum Values:\n",
            "0.17133525997738275 0.9642864860532224\n"
          ],
          "name": "stdout"
        }
      ]
    },
    {
      "cell_type": "markdown",
      "metadata": {
        "id": "mX7sQDG7sFWQ"
      },
      "source": [
        "9. Write a NumPy program to normalize a 3x3 random matrix."
      ]
    },
    {
      "cell_type": "code",
      "metadata": {
        "id": "yJzmdkJ5oAae",
        "colab": {
          "base_uri": "https://localhost:8080/"
        },
        "outputId": "6c452b9b-d5a9-49b1-c6be-415dfc22e72c"
      },
      "source": [
        "import numpy as np\n",
        "\n",
        "x= np.random.random((3,3))\n",
        "\n",
        "print(\"matrix:\")\n",
        "\n",
        "print(x)\n",
        "\n",
        "xmax, xmin = x.max(), x.min()\n",
        "\n",
        "x = (x - xmin)/(xmax - xmin)\n",
        "\n",
        "print(\"Normalizing matrix:\")\n",
        "\n",
        "print(x)"
      ],
      "execution_count": 11,
      "outputs": [
        {
          "output_type": "stream",
          "text": [
            "matrix:\n",
            "[[0.35430117 0.53703811 0.49356377]\n",
            " [0.97832216 0.66308555 0.06423107]\n",
            " [0.34135486 0.83979865 0.53954769]]\n",
            "Normalizing matrix:\n",
            "[[0.31733172 0.5172428  0.46968262]\n",
            " [1.         0.65513655 0.        ]\n",
            " [0.30316868 0.84845764 0.51998824]]\n"
          ],
          "name": "stdout"
        }
      ]
    },
    {
      "cell_type": "markdown",
      "metadata": {
        "id": "JuunHKXbsLgA"
      },
      "source": [
        "10. Write a NumPy program to create a random vector of size 10 and sort it."
      ]
    },
    {
      "cell_type": "code",
      "metadata": {
        "id": "2v0TRJNHochH",
        "colab": {
          "base_uri": "https://localhost:8080/"
        },
        "outputId": "950d979e-8219-4747-acca-79bc2d0d0cbe"
      },
      "source": [
        "import numpy as np\n",
        "\n",
        "x = np.random.random(10)\n",
        "\n",
        "print(\"vector:\")\n",
        "\n",
        "print(x)\n",
        "\n",
        "x.sort()\n",
        "\n",
        "print(\"Sorted vector:\")\n",
        "\n",
        "print(x)"
      ],
      "execution_count": 12,
      "outputs": [
        {
          "output_type": "stream",
          "text": [
            "vector:\n",
            "[0.6108806  0.72827318 0.29723957 0.93598156 0.56626876 0.95437587\n",
            " 0.83974083 0.41256825 0.83595112 0.4663451 ]\n",
            "Sorted vector:\n",
            "[0.29723957 0.41256825 0.4663451  0.56626876 0.6108806  0.72827318\n",
            " 0.83595112 0.83974083 0.93598156 0.95437587]\n"
          ],
          "name": "stdout"
        }
      ]
    },
    {
      "cell_type": "markdown",
      "metadata": {
        "id": "WwWBqK0wsT_w"
      },
      "source": [
        "11. Write a NumPy program to check if two random arrays are equal or not."
      ]
    },
    {
      "cell_type": "code",
      "metadata": {
        "id": "xZItN6maov5D",
        "colab": {
          "base_uri": "https://localhost:8080/"
        },
        "outputId": "97303753-669d-4ed3-e3e3-f36100479b4b"
      },
      "source": [
        "import numpy as np\n",
        "\n",
        "x = np.random.randint(0,2,6)\n",
        "\n",
        "print(\"1st array:\")\n",
        "\n",
        "print(x)\n",
        "\n",
        "y = np.random.randint(0,2,6)\n",
        "\n",
        "print(\"2nd array:\")\n",
        "\n",
        "print(y)\n",
        "\n",
        "print(\"Test above two arrays are equal or not\")\n",
        "\n",
        "array_equal = np.allclose(x, y)\n",
        "\n",
        "print(array_equal)"
      ],
      "execution_count": 27,
      "outputs": [
        {
          "output_type": "stream",
          "text": [
            "1st array:\n",
            "[0 0 1 1 0 1]\n",
            "2nd array:\n",
            "[1 0 1 1 1 0]\n",
            "Test above two arrays are equal or not\n",
            "False\n"
          ],
          "name": "stdout"
        }
      ]
    },
    {
      "cell_type": "markdown",
      "metadata": {
        "id": "tqpLR89Bsqmo"
      },
      "source": [
        "12. Write a NumPy program to create a random vector of size 15 and replace the maximum value by -1."
      ]
    },
    {
      "cell_type": "code",
      "metadata": {
        "id": "Lw1n0ysfpKPJ",
        "colab": {
          "base_uri": "https://localhost:8080/"
        },
        "outputId": "f973091e-7a35-4a50-c26b-0c755aeca02e"
      },
      "source": [
        "import numpy as np\n",
        "x = np.random.random(15)\n",
        "print(\"Vector:\")\n",
        "print(x)\n",
        "x[x.argmax()] = -1\n",
        "print(\"Replacing max value by -1:\")\n",
        "print(x)"
      ],
      "execution_count": 26,
      "outputs": [
        {
          "output_type": "stream",
          "text": [
            "Vector:\n",
            "[0.80640973 0.0138268  0.74005531 0.28136718 0.70145332 0.56205563\n",
            " 0.36213703 0.23137079 0.05654066 0.82768679 0.32393345 0.8329959\n",
            " 0.0902187  0.69033957 0.73926029]\n",
            "Replacing max value by -1:\n",
            "[ 0.80640973  0.0138268   0.74005531  0.28136718  0.70145332  0.56205563\n",
            "  0.36213703  0.23137079  0.05654066  0.82768679  0.32393345 -1.\n",
            "  0.0902187   0.69033957  0.73926029]\n"
          ],
          "name": "stdout"
        }
      ]
    },
    {
      "cell_type": "markdown",
      "metadata": {
        "id": "abnZnVKIs6xA"
      },
      "source": [
        "13. Write a NumPy program to sort a given array of shape 2 along the first axis, last axis and on a flattened array.\n",
        "  A = [[1,2]\n",
        "       [11,12]]"
      ]
    },
    {
      "cell_type": "code",
      "metadata": {
        "id": "8t9mGWRCpnu9",
        "colab": {
          "base_uri": "https://localhost:8080/"
        },
        "outputId": "ffce895d-daa7-4b95-a72d-167dd4ef4da8"
      },
      "source": [
        "import numpy as np\n",
        "\n",
        "a = np.array([[1,2],[11,12]])\n",
        "\n",
        "print(\"Original array:\")\n",
        "\n",
        "print(a)\n",
        "\n",
        "print(\"Sort the array along the first axis:\")\n",
        "\n",
        "print(np.sort(a, axis=0))\n",
        "\n",
        "print(\"Sort the array along the last axis:\")\n",
        "\n",
        "print(np.sort(a))\n",
        "\n",
        "print(\"Sort the flattened array:\")\n",
        "\n",
        "print(np.sort(a, axis=None))"
      ],
      "execution_count": 25,
      "outputs": [
        {
          "output_type": "stream",
          "text": [
            "Original array:\n",
            "[[ 1  2]\n",
            " [11 12]]\n",
            "Sort the array along the first axis:\n",
            "[[ 1  2]\n",
            " [11 12]]\n",
            "Sort the array along the last axis:\n",
            "[[ 1  2]\n",
            " [11 12]]\n",
            "Sort the flattened array:\n",
            "[ 1  2 11 12]\n"
          ],
          "name": "stdout"
        }
      ]
    },
    {
      "cell_type": "markdown",
      "metadata": {
        "id": "TPfOenmCtB60"
      },
      "source": [
        "14. Write a NumPy program to sort the student id with increasing height of the students from given students id and height. Print the integer indices that describe the sort order by multiple columns and the sorted data.\n",
        "\n",
        "id   123 126 140 152\n",
        "height 145 155 165 153  "
      ]
    },
    {
      "cell_type": "code",
      "metadata": {
        "id": "nBTR7UujqN0c",
        "colab": {
          "base_uri": "https://localhost:8080/"
        },
        "outputId": "5730c93d-1404-44f8-f922-28717408761a"
      },
      "source": [
        "import numpy as np\n",
        "\n",
        "student_id = np.array([123, 126, 140, 152])\n",
        "\n",
        "student_height = np.array([145, 155, 165, 153])\n",
        "\n",
        "indices = np.lexsort((student_id, student_height))\n",
        "\n",
        "print(\"Sorted indices:\")\n",
        "\n",
        "print(indices)\n",
        "\n",
        "print(\"Sorted data:\")\n",
        "\n",
        "for n in indices:\n",
        "  \n",
        "  print(student_id[n], student_height[n])"
      ],
      "execution_count": 24,
      "outputs": [
        {
          "output_type": "stream",
          "text": [
            "Sorted indices:\n",
            "[0 3 1 2]\n",
            "Sorted data:\n",
            "123 145\n",
            "152 153\n",
            "126 155\n",
            "140 165\n"
          ],
          "name": "stdout"
        }
      ]
    },
    {
      "cell_type": "markdown",
      "metadata": {
        "id": "QPNOAdEftlvA"
      },
      "source": [
        "15. Write a NumPy program to get the indices of the sorted elements of a given array.\n",
        "X = [1023 5202 6230 1671 1682 5241 4532]"
      ]
    },
    {
      "cell_type": "code",
      "metadata": {
        "id": "GRS6atLlq-P7",
        "colab": {
          "base_uri": "https://localhost:8080/"
        },
        "outputId": "53dd3362-a53c-4786-8da1-79c33772eb2a"
      },
      "source": [
        "import numpy as np\n",
        "\n",
        "student_id = np.array([1023, 5202, 6230, 1671, 1682, 5241, 4532])\n",
        "\n",
        "print(\"array:\")\n",
        "\n",
        "print(student_id)\n",
        "\n",
        "i = np.argsort(student_id)\n",
        "\n",
        "print(\"Indices of the sorted elements of a given array:\")\n",
        "\n",
        "print(i)"
      ],
      "execution_count": 23,
      "outputs": [
        {
          "output_type": "stream",
          "text": [
            "array:\n",
            "[1023 5202 6230 1671 1682 5241 4532]\n",
            "Indices of the sorted elements of a given array:\n",
            "[0 3 4 6 1 5 2]\n"
          ],
          "name": "stdout"
        }
      ]
    },
    {
      "cell_type": "markdown",
      "metadata": {
        "id": "Lbv1h5VIt4wM"
      },
      "source": [
        "16. Write a NumPy program to sort a given complex array using the real part first, then the imaginary part.\n",
        "Y = [(1+2j), (3-1j), (3-2j), (4-3j), (3+5j)]"
      ]
    },
    {
      "cell_type": "code",
      "metadata": {
        "id": "hQFO33Q8rUXZ",
        "colab": {
          "base_uri": "https://localhost:8080/"
        },
        "outputId": "a148243c-5458-4279-bcce-9e22b96adc81"
      },
      "source": [
        "import numpy as np\n",
        "\n",
        "complex_num = [1 + 2j, 3 - 1j, 3 - 2j, 4 - 3j, 3 + 5j]\n",
        "\n",
        "print(\"array:\")\n",
        "\n",
        "print(complex_num)\n",
        "\n",
        "print(\"\\nSorting given complex no.\")\n",
        "\n",
        "print(np.sort_complex(complex_num))\n"
      ],
      "execution_count": 22,
      "outputs": [
        {
          "output_type": "stream",
          "text": [
            "array:\n",
            "[(1+2j), (3-1j), (3-2j), (4-3j), (3+5j)]\n",
            "\n",
            "Sorting given complex no.\n",
            "[1.+2.j 3.-2.j 3.-1.j 3.+5.j 4.-3.j]\n"
          ],
          "name": "stdout"
        }
      ]
    },
    {
      "cell_type": "markdown",
      "metadata": {
        "id": "QRx0emVat9AE"
      },
      "source": [
        "17. Multiply AXB\n",
        "A = [[1,2],\n",
        "     [11,12],\n",
        "     [12,15]]\n",
        "B = [[1,2,3],\n",
        "     [11,12,13]]"
      ]
    },
    {
      "cell_type": "code",
      "metadata": {
        "id": "ANCtF5DUroku",
        "colab": {
          "base_uri": "https://localhost:8080/"
        },
        "outputId": "473ece0b-65dd-4d44-ae1b-1d3695e9f545"
      },
      "source": [
        "import numpy as np\n",
        "\n",
        "mat1 = ([1, 2],[11 ,12],[12, 15])\n",
        "\n",
        "mat2 = ([1, 2, 3],[11, 12, 13])\n",
        "  \n",
        "res = np.dot(mat1,mat2)\n",
        "\n",
        "print(res)"
      ],
      "execution_count": 21,
      "outputs": [
        {
          "output_type": "stream",
          "text": [
            "[[ 23  26  29]\n",
            " [143 166 189]\n",
            " [177 204 231]]\n"
          ],
          "name": "stdout"
        }
      ]
    },
    {
      "cell_type": "markdown",
      "metadata": {
        "id": "nq13ztUxuIq8"
      },
      "source": [
        "18. Write a NumPy program to compute ex, element-wise of a given array.\n",
        " A = [1,5,6,9]"
      ]
    },
    {
      "cell_type": "code",
      "metadata": {
        "id": "hgNTiHLRsodi",
        "colab": {
          "base_uri": "https://localhost:8080/"
        },
        "outputId": "f8aa67c8-e8af-48f1-86a8-4e0fbc78c42f"
      },
      "source": [
        "import numpy as np\n",
        "\n",
        "x = np.array([1, 5, 6, 9], np.int32)\n",
        "\n",
        "print(\"array: \")\n",
        "\n",
        "print(x)\n",
        "\n",
        "print(\"\\ne^x, element-wise:\")\n",
        "\n",
        "r = np.exp(x)\n",
        "\n",
        "print(r)"
      ],
      "execution_count": 20,
      "outputs": [
        {
          "output_type": "stream",
          "text": [
            "array: \n",
            "[1 5 6 9]\n",
            "\n",
            "e^x, element-wise:\n",
            "[2.71828183e+00 1.48413159e+02 4.03428793e+02 8.10308393e+03]\n"
          ],
          "name": "stdout"
        }
      ]
    },
    {
      "cell_type": "markdown",
      "metadata": {
        "id": "Y2t3ggwWuOPM"
      },
      "source": [
        "19. Write a NumPy program to compute natural, base 10, and base 2 logarithms for all elements in a given array.\n",
        "A = [1,2.5,56,19]\n"
      ]
    },
    {
      "cell_type": "code",
      "metadata": {
        "id": "_zMmpi2htMbQ",
        "colab": {
          "base_uri": "https://localhost:8080/"
        },
        "outputId": "44263d53-beae-456f-da00-eea338ac2ccd"
      },
      "source": [
        "import numpy as np\n",
        "\n",
        "x = np.array([1, 2.5, 56, 19])\n",
        "\n",
        "print(\"array: \")\n",
        "\n",
        "print(x)\n",
        "\n",
        "print(\"\\nNatural log =\", np.log(x))\n",
        "\n",
        "print(\"Common log =\", np.log10(x))\n",
        "\n",
        "print(\"Base 2 log =\", np.log2(x))"
      ],
      "execution_count": 19,
      "outputs": [
        {
          "output_type": "stream",
          "text": [
            "array: \n",
            "[ 1.   2.5 56.  19. ]\n",
            "\n",
            "Natural log = [0.         0.91629073 4.02535169 2.94443898]\n",
            "Common log = [0.         0.39794001 1.74818803 1.2787536 ]\n",
            "Base 2 log = [0.         1.32192809 5.80735492 4.24792751]\n"
          ],
          "name": "stdout"
        }
      ]
    },
    {
      "cell_type": "markdown",
      "metadata": {
        "id": "VDKU8ZfiuiA0"
      },
      "source": [
        "20. Write a NumPy program to calculate the difference between the maximum and the minimum values of a given array along the second axis.\n",
        " A = [[ 0 1 2 3 4 5]\n",
        " [ 6 7 8 9 10 11]]"
      ]
    },
    {
      "cell_type": "code",
      "metadata": {
        "id": "KU2RmYamtnn5",
        "colab": {
          "base_uri": "https://localhost:8080/"
        },
        "outputId": "fc3c265c-c9b1-463d-8267-a6d38f048aab"
      },
      "source": [
        "import numpy as np\n",
        "\n",
        "x = np.arange(12).reshape((2, 6))\n",
        "\n",
        "print(\"array:\")\n",
        "\n",
        "print(x)\n",
        "\n",
        "r1 = np.ptp(x, 1)\n",
        "\n",
        "r2 = np.amax(x, 1) - np.amin(x, 1)\n",
        "\n",
        "assert np.allclose(r1, r2)\n",
        "\n",
        "print(\"\\nThe Difference is:\")\n",
        "\n",
        "print(r1)"
      ],
      "execution_count": 18,
      "outputs": [
        {
          "output_type": "stream",
          "text": [
            "array:\n",
            "[[ 0  1  2  3  4  5]\n",
            " [ 6  7  8  9 10 11]]\n",
            "\n",
            "The Difference is:\n",
            "[5 5]\n"
          ],
          "name": "stdout"
        }
      ]
    },
    {
      "cell_type": "markdown",
      "metadata": {
        "id": "3eNTZBHcuoKk"
      },
      "source": [
        "21. Write a NumPy program to compute the median of a flattened given array.\n",
        " B =[[ 0 1 2 3 4 5]\n",
        " [ 6 7 8 9 10 11]]\n"
      ]
    },
    {
      "cell_type": "code",
      "metadata": {
        "id": "XiAusLj_uTaC",
        "colab": {
          "base_uri": "https://localhost:8080/",
          "height": 244
        },
        "outputId": "15c6e6d7-b920-46fd-ecba-b560a4aa6f02"
      },
      "source": [
        "import numpy as np\n",
        "\n",
        "x = np.arange(12).r\n",
        "eshape((2, 6))\n",
        "print(\"Array:\")\n",
        "\n",
        "print(x)\n",
        "\n",
        "r1 =  np.median(x)\n",
        "\n",
        "print(\"\\nMedian of array: \")\n",
        "\n",
        "print(r1)"
      ],
      "execution_count": 17,
      "outputs": [
        {
          "output_type": "error",
          "ename": "AttributeError",
          "evalue": "ignored",
          "traceback": [
            "\u001b[0;31m---------------------------------------------------------------------------\u001b[0m",
            "\u001b[0;31mAttributeError\u001b[0m                            Traceback (most recent call last)",
            "\u001b[0;32m<ipython-input-17-a22ae03359e8>\u001b[0m in \u001b[0;36m<module>\u001b[0;34m()\u001b[0m\n\u001b[1;32m      1\u001b[0m \u001b[0;32mimport\u001b[0m \u001b[0mnumpy\u001b[0m \u001b[0;32mas\u001b[0m \u001b[0mnp\u001b[0m\u001b[0;34m\u001b[0m\u001b[0;34m\u001b[0m\u001b[0m\n\u001b[1;32m      2\u001b[0m \u001b[0;34m\u001b[0m\u001b[0m\n\u001b[0;32m----> 3\u001b[0;31m \u001b[0mx\u001b[0m \u001b[0;34m=\u001b[0m \u001b[0mnp\u001b[0m\u001b[0;34m.\u001b[0m\u001b[0marange\u001b[0m\u001b[0;34m(\u001b[0m\u001b[0;36m12\u001b[0m\u001b[0;34m)\u001b[0m\u001b[0;34m.\u001b[0m\u001b[0mr\u001b[0m\u001b[0;34m\u001b[0m\u001b[0;34m\u001b[0m\u001b[0m\n\u001b[0m\u001b[1;32m      4\u001b[0m \u001b[0meshape\u001b[0m\u001b[0;34m(\u001b[0m\u001b[0;34m(\u001b[0m\u001b[0;36m2\u001b[0m\u001b[0;34m,\u001b[0m \u001b[0;36m6\u001b[0m\u001b[0;34m)\u001b[0m\u001b[0;34m)\u001b[0m\u001b[0;34m\u001b[0m\u001b[0;34m\u001b[0m\u001b[0m\n\u001b[1;32m      5\u001b[0m \u001b[0mprint\u001b[0m\u001b[0;34m(\u001b[0m\u001b[0;34m\"Array:\"\u001b[0m\u001b[0;34m)\u001b[0m\u001b[0;34m\u001b[0m\u001b[0;34m\u001b[0m\u001b[0m\n",
            "\u001b[0;31mAttributeError\u001b[0m: 'numpy.ndarray' object has no attribute 'r'"
          ]
        }
      ]
    },
    {
      "cell_type": "markdown",
      "metadata": {
        "id": "Sdiyc3qiu5NM"
      },
      "source": [
        "22. Write a NumPy program to compute cross-correlation of two given arrays.\n",
        "\n",
        " A = [0 1 3]\n",
        " B = [2 4 5]\n"
      ]
    },
    {
      "cell_type": "code",
      "metadata": {
        "id": "jw5R2l20up_r",
        "colab": {
          "base_uri": "https://localhost:8080/"
        },
        "outputId": "0d2dd4bc-cf72-4ffa-a22b-0b0a027d6186"
      },
      "source": [
        "import numpy as np\n",
        "\n",
        "x = np.array([0, 1, 3])\n",
        "\n",
        "y = np.array([2, 4, 5])\n",
        "\n",
        "print(\"Array1:\")\n",
        "\n",
        "print(x)\n",
        "\n",
        "print(\"Array2:\")\n",
        "\n",
        "print(y)\n",
        "\n",
        "print(\"\\nCross-correlation of arrays:\\n\",np.cov(x, y))\n"
      ],
      "execution_count": 16,
      "outputs": [
        {
          "output_type": "stream",
          "text": [
            "Array1:\n",
            "[0 1 3]\n",
            "Array2:\n",
            "[2 4 5]\n",
            "\n",
            "Cross-correlation of arrays:\n",
            " [[2.33333333 2.16666667]\n",
            " [2.16666667 2.33333333]]\n"
          ],
          "name": "stdout"
        }
      ]
    },
    {
      "cell_type": "markdown",
      "metadata": {
        "id": "eoiJTNRTvHJY"
      },
      "source": [
        "23. Write a Python program to count the number of occurrences of each value in a given array of non-negative integers.\n",
        "\n",
        "A = [0, 1, 6, 1, 4, 1, 2, 2, 7]"
      ]
    },
    {
      "cell_type": "code",
      "metadata": {
        "id": "gmHKJ8z7vArt",
        "colab": {
          "base_uri": "https://localhost:8080/"
        },
        "outputId": "c3a8dcbd-e3fa-400f-a058-13389094b9e4"
      },
      "source": [
        "import numpy as np\n",
        "\n",
        "Array = [0, 1, 6, 1, 4, 1, 2, 2, 7] \n",
        "\n",
        "print(\"array:\")\n",
        "\n",
        "print(Array)\n",
        "\n",
        "print(\"Number of occurrences of each value in given array: \")\n",
        "\n",
        "print(np.bincount(Array))"
      ],
      "execution_count": 15,
      "outputs": [
        {
          "output_type": "stream",
          "text": [
            "array:\n",
            "[0, 1, 6, 1, 4, 1, 2, 2, 7]\n",
            "Number of occurrences of each value in given array: \n",
            "[1 3 2 0 1 0 1 1]\n"
          ],
          "name": "stdout"
        }
      ]
    },
    {
      "cell_type": "markdown",
      "metadata": {
        "id": "Jd11eLE0vRIc"
      },
      "source": [
        "24. Write a NumPy program to display all the dates for the month of May, 2021."
      ]
    },
    {
      "cell_type": "code",
      "metadata": {
        "id": "4gmX4BXUvcQL",
        "colab": {
          "base_uri": "https://localhost:8080/"
        },
        "outputId": "bf30e8bd-ccf8-45b3-d12a-73c0ad9696a8"
      },
      "source": [
        "import numpy as np\n",
        "\n",
        "print(\"May, 2021\")\n",
        "\n",
        "print(np.arange('2021-05', '2021-06', dtype='datetime64[D]'))"
      ],
      "execution_count": 14,
      "outputs": [
        {
          "output_type": "stream",
          "text": [
            "May, 2021\n",
            "['2021-05-01' '2021-05-02' '2021-05-03' '2021-05-04' '2021-05-05'\n",
            " '2021-05-06' '2021-05-07' '2021-05-08' '2021-05-09' '2021-05-10'\n",
            " '2021-05-11' '2021-05-12' '2021-05-13' '2021-05-14' '2021-05-15'\n",
            " '2021-05-16' '2021-05-17' '2021-05-18' '2021-05-19' '2021-05-20'\n",
            " '2021-05-21' '2021-05-22' '2021-05-23' '2021-05-24' '2021-05-25'\n",
            " '2021-05-26' '2021-05-27' '2021-05-28' '2021-05-29' '2021-05-30'\n",
            " '2021-05-31']\n"
          ],
          "name": "stdout"
        }
      ]
    },
    {
      "cell_type": "markdown",
      "metadata": {
        "id": "6ttKiWTTvbxs"
      },
      "source": [
        "25. Write a NumPy program to concatenate element-wise two arrays of string.\n",
        " A = ['Python' 'PHP']\n",
        "B = [' Java' ' C++']\n"
      ]
    },
    {
      "cell_type": "code",
      "metadata": {
        "id": "IRkno7aDvynQ",
        "colab": {
          "base_uri": "https://localhost:8080/"
        },
        "outputId": "8b3a38d5-3763-4d75-a6b2-bec937e004d9"
      },
      "source": [
        "import numpy as np\n",
        "\n",
        "x1 = np.array(['Python', 'PHP'], dtype=np.str)\n",
        "\n",
        "x2 = np.array([' Java', ' C++'], dtype=np.str)\n",
        "\n",
        "print(\"Array1:\")\n",
        "\n",
        "print(x1)\n",
        "\n",
        "print(\"Array2:\")\n",
        "\n",
        "print(x2)\n",
        "\n",
        "new_array = np.char.add(x1, x2)\n",
        "\n",
        "print(\"new array:\")\n",
        "\n",
        "print(new_array)"
      ],
      "execution_count": 13,
      "outputs": [
        {
          "output_type": "stream",
          "text": [
            "Array1:\n",
            "['Python' 'PHP']\n",
            "Array2:\n",
            "[' Java' ' C++']\n",
            "new array:\n",
            "['Python Java' 'PHP C++']\n"
          ],
          "name": "stdout"
        }
      ]
    }
  ]
}