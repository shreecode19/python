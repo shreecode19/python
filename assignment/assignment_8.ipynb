{
  "nbformat": 4,
  "nbformat_minor": 0,
  "metadata": {
    "colab": {
      "name": "assignment_8.ipynb",
      "provenance": [],
      "collapsed_sections": [],
      "authorship_tag": "ABX9TyNH+k/VWNb6FodZ/4PbzeC9",
      "include_colab_link": true
    },
    "kernelspec": {
      "name": "python3",
      "display_name": "Python 3"
    },
    "language_info": {
      "name": "python"
    }
  },
  "cells": [
    {
      "cell_type": "markdown",
      "metadata": {
        "id": "view-in-github",
        "colab_type": "text"
      },
      "source": [
        "<a href=\"https://colab.research.google.com/github/shreecode19/python/blob/main/assignment_8.ipynb\" target=\"_parent\"><img src=\"https://colab.research.google.com/assets/colab-badge.svg\" alt=\"Open In Colab\"/></a>"
      ]
    },
    {
      "cell_type": "markdown",
      "metadata": {
        "id": "Lvs3DLjv598B"
      },
      "source": [
        "1)Write a function that calculates the X^Y."
      ]
    },
    {
      "cell_type": "code",
      "metadata": {
        "colab": {
          "base_uri": "https://localhost:8080/"
        },
        "id": "LiwcAUqj50Bo",
        "outputId": "5a8ba7ba-f42f-4646-a8c7-2f4c0d8467e5"
      },
      "source": [
        "def power(X,Y):\n",
        "\n",
        "  print('X^Y is equal to: %d' %(X**Y))\n",
        "\n",
        "X = int(input(\"Enter a number: \"))\n",
        "\n",
        "Y = int(input(\"Enter a number: \"))\n",
        "\n",
        "print(power(X,Y))"
      ],
      "execution_count": null,
      "outputs": [
        {
          "output_type": "stream",
          "text": [
            "Enter a number: 2\n",
            "Enter a number: 3\n",
            "X^Y is equal to: 8\n",
            "None\n"
          ],
          "name": "stdout"
        }
      ]
    },
    {
      "cell_type": "markdown",
      "metadata": {
        "id": "t85SX6J86XNu"
      },
      "source": [
        "2)Write a Python function to multiply all the numbers in a list."
      ]
    },
    {
      "cell_type": "code",
      "metadata": {
        "colab": {
          "base_uri": "https://localhost:8080/"
        },
        "id": "9dphzmj96cCZ",
        "outputId": "c847ae8e-fa68-45bf-b2fd-483b7160e870"
      },
      "source": [
        "numbers = []\n",
        "\n",
        "def multiply(numbers):  \n",
        "\n",
        "    total = 1\n",
        "  \n",
        "    for n in numbers:\n",
        "  \n",
        "        total *= n  \n",
        "  \n",
        "    return total  \n",
        "\n",
        "n = int(input(\"How many numbers do you want in the list? \"))\n",
        " \n",
        "for i in range(0, n):\n",
        "    \n",
        "    num = int(input(\"Enter a number: \"))\n",
        " \n",
        "    numbers.append(num)\n",
        "\n",
        "print(multiply(numbers))"
      ],
      "execution_count": null,
      "outputs": [
        {
          "output_type": "stream",
          "text": [
            "How many numbers do you want in the list? 5\n",
            "Enter a number: 1\n",
            "Enter a number: 2\n",
            "Enter a number: 3\n",
            "Enter a number: 4\n",
            "Enter a number: 5\n",
            "120\n"
          ],
          "name": "stdout"
        }
      ]
    },
    {
      "cell_type": "markdown",
      "metadata": {
        "id": "-CoHdz0J6uwX"
      },
      "source": [
        "3)Write a Python function to calculate the factorial of a number (a non-negative integer). The function accepts the number as an argument\n",
        "\n",
        "\n",
        "\n",
        "\n"
      ]
    },
    {
      "cell_type": "code",
      "metadata": {
        "colab": {
          "base_uri": "https://localhost:8080/"
        },
        "id": "lD4-D8K167HP",
        "outputId": "93c203c4-dd59-429c-c9e0-25f21994b454"
      },
      "source": [
        "def factorial(n):\n",
        "\n",
        "    if n == 0:\n",
        "\n",
        "        return 1\n",
        "\n",
        "    elif n < 0:\n",
        "\n",
        "      print(\"Number can't be negative or floating point!\")\n",
        "\n",
        "    else:\n",
        "\n",
        "        return n * factorial(n-1)\n",
        "\n",
        "n = int(input(\"Input a number to compute the factorial : \"))\n",
        "\n",
        "print(factorial(n))"
      ],
      "execution_count": null,
      "outputs": [
        {
          "output_type": "stream",
          "text": [
            "Input a number to compute the factorial : 6\n",
            "720\n"
          ],
          "name": "stdout"
        }
      ]
    },
    {
      "cell_type": "markdown",
      "metadata": {
        "id": "biaYoEup7DOq"
      },
      "source": [
        "4)Write a Python function that accepts a string and calculates the number of uppercase letters and lowercase letters."
      ]
    },
    {
      "cell_type": "code",
      "metadata": {
        "colab": {
          "base_uri": "https://localhost:8080/"
        },
        "id": "FKeW8Ck07Rrg",
        "outputId": "7b9baaac-3711-4512-81fd-25f21542aaf3"
      },
      "source": [
        "word = input(\"Enter a word: \")\n",
        "\n",
        "uppercase = []\n",
        "\n",
        "lowercase = []\n",
        "\n",
        "num_ch = []\n",
        "\n",
        "def cases(word):\n",
        "\n",
        "  for ch in word:\n",
        "\n",
        "    if (ch >= 'A' and ch <= 'Z'):\n",
        "\n",
        "      uppercase.append(ch) \n",
        " \n",
        "    elif (ch >= 'a' and ch <= 'z'):\n",
        "\n",
        "      lowercase.append(ch)\n",
        "\n",
        "    else:\n",
        "\n",
        "      num_ch.append(ch)\n",
        "\n",
        "  a = len(uppercase)\n",
        "\n",
        "  b = len(lowercase)\n",
        "\n",
        "  c = len(num_ch)\n",
        "\n",
        "  print(\"Total uppercase letters are: {}, lowercase letters are: {}. \\n Whereas the number of special characters and digits are: {}.\" .format(a, b, c))\n",
        "\n",
        "cases(word) "
      ],
      "execution_count": null,
      "outputs": [
        {
          "output_type": "stream",
          "text": [
            "Enter a word: Shreejan\n",
            "Total uppercase letters are: 1, lowercase letters are: 7. \n",
            " Whereas the number of special characters and digits are: 0.\n"
          ],
          "name": "stdout"
        }
      ]
    },
    {
      "cell_type": "markdown",
      "metadata": {
        "id": "wU49Yp_27eFq"
      },
      "source": [
        "5)Write a Python function that takes a list and returns a new list with unique elements of the first list."
      ]
    },
    {
      "cell_type": "code",
      "metadata": {
        "colab": {
          "base_uri": "https://localhost:8080/",
          "height": 226
        },
        "id": "7csTxHTy7nkb",
        "outputId": "4b510172-e7b1-4f62-c4da-4a09e26a0b8d"
      },
      "source": [
        "list = []\n",
        "\n",
        "unique_list = []\n",
        "\n",
        "def listmaker(a):\n",
        "\n",
        "  for i in range(0, n):\n",
        "    \n",
        "    a = input(\"Enter the elements: \")\n",
        "    \n",
        "    list.append(a)\n",
        "    \n",
        "    \n",
        "    print(f'the list is: {list}')\n",
        "    \n",
        "    \n",
        "    for x in list:\n",
        "      \n",
        "      if x not in unique_list:\n",
        "        \n",
        "        unique_list.append(x)\n",
        "\n",
        "  print(f'the list is: {unique_list}')\n",
        "\n",
        "n = int(input(\"How many items do you want in the list? \"))\n",
        " \n",
        "print(listmaker(a))"
      ],
      "execution_count": null,
      "outputs": [
        {
          "output_type": "stream",
          "text": [
            "How many items do you want in the list? 2\n"
          ],
          "name": "stdout"
        },
        {
          "output_type": "error",
          "ename": "NameError",
          "evalue": "ignored",
          "traceback": [
            "\u001b[0;31m---------------------------------------------------------------------------\u001b[0m",
            "\u001b[0;31mNameError\u001b[0m                                 Traceback (most recent call last)",
            "\u001b[0;32m<ipython-input-17-9df1be6e48f0>\u001b[0m in \u001b[0;36m<module>\u001b[0;34m()\u001b[0m\n\u001b[1;32m     25\u001b[0m \u001b[0mn\u001b[0m \u001b[0;34m=\u001b[0m \u001b[0mint\u001b[0m\u001b[0;34m(\u001b[0m\u001b[0minput\u001b[0m\u001b[0;34m(\u001b[0m\u001b[0;34m\"How many items do you want in the list? \"\u001b[0m\u001b[0;34m)\u001b[0m\u001b[0;34m)\u001b[0m\u001b[0;34m\u001b[0m\u001b[0;34m\u001b[0m\u001b[0m\n\u001b[1;32m     26\u001b[0m \u001b[0;34m\u001b[0m\u001b[0m\n\u001b[0;32m---> 27\u001b[0;31m \u001b[0mprint\u001b[0m\u001b[0;34m(\u001b[0m\u001b[0mlistmaker\u001b[0m\u001b[0;34m(\u001b[0m\u001b[0ma\u001b[0m\u001b[0;34m)\u001b[0m\u001b[0;34m)\u001b[0m\u001b[0;34m\u001b[0m\u001b[0;34m\u001b[0m\u001b[0m\n\u001b[0m",
            "\u001b[0;31mNameError\u001b[0m: name 'a' is not defined"
          ]
        }
      ]
    },
    {
      "cell_type": "markdown",
      "metadata": {
        "id": "9iFG_hdG_Dkf"
      },
      "source": [
        "6)Write a Python program to print the even numbers from a given list."
      ]
    },
    {
      "cell_type": "code",
      "metadata": {
        "colab": {
          "base_uri": "https://localhost:8080/"
        },
        "id": "kjfOOeDc_JvM",
        "outputId": "ffd5b682-49af-435e-c285-de780978f61a"
      },
      "source": [
        "def even(num):\n",
        "\n",
        "  if num%2 == 0:\n",
        "    \n",
        "    print(\"The number is even.\")\n",
        "  \n",
        "  else:\n",
        "\n",
        "    print(\"The number is odd.\")\n",
        "\n",
        "num = int(input(\"Enter a number: \")) \n",
        "\n",
        "even(num)"
      ],
      "execution_count": null,
      "outputs": [
        {
          "output_type": "stream",
          "text": [
            "Enter a number: 66\n",
            "The number is even.\n"
          ],
          "name": "stdout"
        }
      ]
    },
    {
      "cell_type": "markdown",
      "metadata": {
        "id": "dBctSYBy_TuX"
      },
      "source": [
        "7)Write a Python function to check whether a string is a pangram or not."
      ]
    },
    {
      "cell_type": "code",
      "metadata": {
        "colab": {
          "base_uri": "https://localhost:8080/"
        },
        "id": "4-wFu7rE_bhN",
        "outputId": "90f9f28b-35eb-4cee-8c81-d938d8d87332"
      },
      "source": [
        "import string\n",
        "  \n",
        "def pangram(word):\n",
        "\n",
        "    alphabet = \"abcdefghijklmnopqrstuvwxyz\"\n",
        "    for ch in alphabet:\n",
        "\n",
        "        if ch not in word.lower():\n",
        "\n",
        "            return False\n",
        "  \n",
        "    return True\n",
        "\n",
        "word = input(\"Type anything: \")\n",
        "\n",
        "if(pangram(word) == True):\n",
        "\n",
        "    print(\"\\nYour input is a pangram.\")\n",
        "\n",
        "else:\n",
        "\n",
        "    print(\"\\nNo!!! Your input is not a pangram.\")"
      ],
      "execution_count": null,
      "outputs": [
        {
          "output_type": "stream",
          "text": [
            "Type anything: hello\n",
            "\n",
            "No!!! Your input is not a pangram.\n"
          ],
          "name": "stdout"
        }
      ]
    },
    {
      "cell_type": "markdown",
      "metadata": {
        "id": "VNjLTQSZ_mgh"
      },
      "source": [
        "8)Write a Python program that accepts a hyphen-separated sequence of words as input and prints the words in a hyphen-separated sequence after sorting them alphabetically."
      ]
    },
    {
      "cell_type": "code",
      "metadata": {
        "colab": {
          "base_uri": "https://localhost:8080/"
        },
        "id": "zoQYMsux_wGU",
        "outputId": "2c0f8790-aa74-4e65-ed9c-043b501e6309"
      },
      "source": [
        "items=[n for n in input(\"Input your words: \").split('-')]\n",
        "\n",
        "items.sort()\n",
        "\n",
        "print('-'.join(items))"
      ],
      "execution_count": null,
      "outputs": [
        {
          "output_type": "stream",
          "text": [
            "Input your words: hrljdismx-ssnjsbc\n",
            "hrljdismx-ssnjsbc\n"
          ],
          "name": "stdout"
        }
      ]
    },
    {
      "cell_type": "markdown",
      "metadata": {
        "id": "Yr9kEGFlARLQ"
      },
      "source": [
        "9)Write a Python program to reverse a string."
      ]
    },
    {
      "cell_type": "code",
      "metadata": {
        "colab": {
          "base_uri": "https://localhost:8080/"
        },
        "id": "trnIIA3_AYsx",
        "outputId": "8fb029a3-247c-408b-f6a7-93b069d22f04"
      },
      "source": [
        "def reverse(s):\n",
        "\n",
        "  stringlength=len(s) \n",
        "\n",
        "  slicedString=s[stringlength::-1] \n",
        "\n",
        "  print (\"\\nYour reversed string is: \" + slicedString)\n",
        "\n",
        "string = input(\"Enter a string: \")\n",
        "\n",
        "reverse(string)"
      ],
      "execution_count": null,
      "outputs": [
        {
          "output_type": "stream",
          "text": [
            "Enter a string: shreejan\n",
            "\n",
            "Your reversed string is: najeerhs\n"
          ],
          "name": "stdout"
        }
      ]
    },
    {
      "cell_type": "markdown",
      "metadata": {
        "id": "OkTyzDbtAfdP"
      },
      "source": [
        "10)Write a Python program to access a function inside a function."
      ]
    },
    {
      "cell_type": "code",
      "metadata": {
        "colab": {
          "base_uri": "https://localhost:8080/"
        },
        "id": "5ioxt4oyAmHo",
        "outputId": "592a74f5-5fde-4414-b53d-8b4c41241c1b"
      },
      "source": [
        "def num1(x):\n",
        "\n",
        "       def num2(y):\n",
        "\n",
        "           return x+y\n",
        "\n",
        "       return num2\n",
        "\n",
        "x = int(input(\"Enter a number: \"))\n",
        "\n",
        "y = int(input(\"Enter a number: \"))\n",
        "\n",
        "num1(x)(y)"
      ],
      "execution_count": null,
      "outputs": [
        {
          "output_type": "stream",
          "text": [
            "Enter a number: 22\n",
            "Enter a number: 44\n"
          ],
          "name": "stdout"
        },
        {
          "output_type": "execute_result",
          "data": {
            "text/plain": [
              "66"
            ]
          },
          "metadata": {
            "tags": []
          },
          "execution_count": 28
        }
      ]
    },
    {
      "cell_type": "markdown",
      "metadata": {
        "id": "mRwqU_pwA5HX"
      },
      "source": [
        "11)Write a program to double a given number and add two numbers using lambda()?"
      ]
    },
    {
      "cell_type": "code",
      "metadata": {
        "colab": {
          "base_uri": "https://localhost:8080/"
        },
        "id": "9pJIdTk9A_vx",
        "outputId": "2b974b71-d1fc-47f6-fb15-2f3dd793bdbe"
      },
      "source": [
        "double = lambda x: 2 * x\n",
        "\n",
        "add = lambda a,y : a + y\n",
        "\n",
        "x = int(input(\"Enter a number: \"))\n",
        "\n",
        "y = int(input(\"Enter a number: \"))\n",
        "\n",
        "print(double(x))\n",
        "\n",
        "print(add(x,y))"
      ],
      "execution_count": null,
      "outputs": [
        {
          "output_type": "stream",
          "text": [
            "Enter a number: 2\n",
            "Enter a number: 6\n",
            "4\n",
            "8\n"
          ],
          "name": "stdout"
        }
      ]
    },
    {
      "cell_type": "markdown",
      "metadata": {
        "id": "6n_DFlKXBTmU"
      },
      "source": [
        "12)Write a python module with two functions: GCD LCM"
      ]
    },
    {
      "cell_type": "code",
      "metadata": {
        "id": "d-fnto3WBbHW"
      },
      "source": [
        "def gcd(a,b):\n",
        "    \n",
        "#Compute the greatest common divisor of a and b\n",
        "  if(b==0):\n",
        "  \n",
        "    return a\n",
        "  \n",
        "  else:\n",
        "  \n",
        "    return gcd(b,a%b)\n",
        "    \n",
        "def lcm(a, b):\n",
        "\n",
        "#Compute the lowest common multiple of a and b\n",
        "  return int(a * b / gcd(a, b))"
      ],
      "execution_count": null,
      "outputs": []
    },
    {
      "cell_type": "markdown",
      "metadata": {
        "id": "o4oQ5AEjBl2K"
      },
      "source": [
        "13)Write a python module with multiple sorting algorithms as its functions."
      ]
    },
    {
      "cell_type": "code",
      "metadata": {
        "id": "c3oIFWS9BsNz",
        "colab": {
          "base_uri": "https://localhost:8080/",
          "height": 136
        },
        "outputId": "a038bbe3-9c43-4c42-ca3a-e74a38804c0b"
      },
      "source": [
        "#bubble sort\n",
        "def bubblesort(list):\n",
        "\n",
        "   for iter_num in range(len(list)-1,0,-1):\n",
        "\n",
        "      for idx in range(iter_num):\n",
        "     \n",
        "         if list[idx]>list[idx+1]:\n",
        "     \n",
        "            temp = list[idx]\n",
        "     \n",
        "            list[idx] = list[idx+1]\n",
        "     \n",
        "            list[idx+1] = temp\n",
        "\n",
        "#merge Sort\n",
        "def merge_sort(unsorted_list):\n",
        "   \n",
        "   if len(unsorted_list) <= 1:\n",
        "      \n",
        "      return unsorted_list\n",
        "\n",
        "   middle = len(unsorted_list) // 2\n",
        "   \n",
        "   left_list = unsorted_list[:middle]\n",
        "   \n",
        "   right_list = unsorted_list[middle:]\n",
        "\n",
        "   left_list = merge_sort(left_list)\n",
        "   \n",
        "   right_list = merge_sort(right_list)\n",
        "   \n",
        "   return list(merge(left_list, right_list))\n",
        "\n",
        "def merge(left_half,right_half):\n",
        "   \n",
        "   res = []\n",
        "   \n",
        "   while len(left_half) != 0 and len(right_half) != 0:\n",
        "      \n",
        "      if left_half[0] < right_half[0]:\n",
        "         \n",
        "         res.append(left_half[0])\n",
        "         \n",
        "         left_half.remove(left_half[0])\n",
        "      \n",
        "      else:\n",
        "         \n",
        "         res.append(right_half[0])\n",
        "         \n",
        "         right_half.remove(right_half[0])\n",
        "   \n",
        "   if len(left_half) == 0:\n",
        "      \n",
        "      res = res + right_half\n",
        "   \n",
        "   else:\n",
        "      \n",
        "      res = res + left_half\n",
        "   \n",
        "   return res\n",
        "\n",
        "#insertion sort\n",
        "def insertion_sort(InputList):\n",
        "   \n",
        "   for i in range(1, len(InputList)):\n",
        "      \n",
        "      j = i-1\n",
        "      \n",
        "      nxt_element = InputList[i]\n",
        "\n",
        "# Compare the current element with next one\n",
        "   \n",
        "   while (InputList[j] > nxt_element) and (j >= 0):\n",
        "     \n",
        "      InputList[j+1] = InputList[j]\n",
        "     \n",
        "      j=j-1\n",
        "  \n",
        "   InputList[j+1] = nxt_element\n",
        "\n",
        "#shellsort\n",
        "\n",
        "def shellSort(input_list):\n",
        "   \n",
        "   gap = len(input_list) // 2\n",
        " \n",
        "   while gap > 0:\n",
        " \n",
        "      for i in range(gap, len(input_list)):\n",
        "    \n",
        "         temp = input_list[i]\n",
        "     \n",
        "         j = i\n",
        "\n",
        "# Sort the sub list for this gap\n",
        "   \n",
        "   while j >= gap and input_list[j - gap] > temp:\n",
        "    \n",
        "      input_list[j] = input_list[j - gap]\n",
        "    \n",
        "      j = j-gap\n",
        "  \n",
        "     input_list[j] = temp\n",
        "\n",
        "# Reduce the gap for the next element\n",
        "  \n",
        "   gap = gap//2"
      ],
      "execution_count": null,
      "outputs": [
        {
          "output_type": "error",
          "ename": "IndentationError",
          "evalue": "ignored",
          "traceback": [
            "\u001b[0;36m  File \u001b[0;32m\"<ipython-input-3-4a4bf233efdf>\"\u001b[0;36m, line \u001b[0;32m104\u001b[0m\n\u001b[0;31m    input_list[j] = temp\u001b[0m\n\u001b[0m                        ^\u001b[0m\n\u001b[0;31mIndentationError\u001b[0m\u001b[0;31m:\u001b[0m unindent does not match any outer indentation level\n"
          ]
        }
      ]
    },
    {
      "cell_type": "markdown",
      "metadata": {
        "id": "EQXP69Bclsda"
      },
      "source": [
        "14)Write three different functions to calculate the mean, variance and standard deviation of the following data.You need to call your mean function to within your variance and standard deviation functions"
      ]
    },
    {
      "cell_type": "code",
      "metadata": {
        "colab": {
          "base_uri": "https://localhost:8080/"
        },
        "id": "5Yw7rvaSlxyp",
        "outputId": "21109e51-b934-4808-e518-497d88f50ffb"
      },
      "source": [
        "\"\"\"\n",
        "for user defined data\n",
        "\n",
        "n = int(input(\"Enter number of elements : \"))\n",
        "\n",
        "for i in range(0, n):\n",
        "\n",
        "    a = int(input())\n",
        " \n",
        "    data.append(a)\"\"\"\n",
        "\n",
        "def mean(data):\n",
        "  \n",
        "  n = len(data)\n",
        "\n",
        "  mean = sum(data) / n\n",
        "  \n",
        "  return mean\n",
        "\n",
        "def variance(data):\n",
        "   \n",
        "  n = len(data)\n",
        "   \n",
        "  mean = sum(data) / n\n",
        "   \n",
        "  deviations = [(x - mean) ** 2 for x in data]\n",
        "    \n",
        "  variance = sum(deviations) / n\n",
        "\n",
        "  return variance\n",
        "\n",
        " \n",
        "def std_dev(data):\n",
        "\n",
        "  import math\n",
        "  \n",
        "  var = variance(data)\n",
        "  \n",
        "  std_dev = math.sqrt(var)\n",
        "  \n",
        "  return std_dev\n",
        "\n",
        "#Result\n",
        "data = [24, 36, 45, 45, 96, 56, 89, 12, 10, 100]\n",
        "\n",
        "print(\"Standard Deviation of the sample is % s \"% (std_dev(data)))\n",
        "\n",
        "print(\"Variance of the sample is % s \" % (variance(data))) \n",
        "\n",
        "print(\"Mean of the sample is % s \" % (mean(data))) "
      ],
      "execution_count": null,
      "outputs": [
        {
          "output_type": "stream",
          "text": [
            "Standard Deviation of the sample is 31.81524791668297 \n",
            "Variance of the sample is 1012.21 \n",
            "Mean of the sample is 51.3 \n"
          ],
          "name": "stdout"
        }
      ]
    }
  ]
}