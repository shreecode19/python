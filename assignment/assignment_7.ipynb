{
  "nbformat": 4,
  "nbformat_minor": 0,
  "metadata": {
    "colab": {
      "name": "assignment_7.ipynb",
      "provenance": [],
      "collapsed_sections": [],
      "authorship_tag": "ABX9TyNHkgX2hOEMixazA9ohu2K1",
      "include_colab_link": true
    },
    "kernelspec": {
      "name": "python3",
      "display_name": "Python 3"
    },
    "language_info": {
      "name": "python"
    }
  },
  "cells": [
    {
      "cell_type": "markdown",
      "metadata": {
        "id": "view-in-github",
        "colab_type": "text"
      },
      "source": [
        "<a href=\"https://colab.research.google.com/github/shreecode19/python/blob/main/assignment_7.ipynb\" target=\"_parent\"><img src=\"https://colab.research.google.com/assets/colab-badge.svg\" alt=\"Open In Colab\"/></a>"
      ]
    },
    {
      "cell_type": "markdown",
      "metadata": {
        "id": "eRFTGG0oQYEW"
      },
      "source": [
        "\n"
      ]
    },
    {
      "cell_type": "code",
      "metadata": {
        "id": "kIr8E5JeQGxF",
        "colab": {
          "base_uri": "https://localhost:8080/"
        },
        "outputId": "d2a3687e-62b4-40e5-c600-1dfd9c60fba2"
      },
      "source": [
        "A = [[1,2,3],\n",
        "     [4,5,6],\n",
        "     [7,8,9]]\n",
        "B=[[111,22,33],\n",
        "   [44,55,56],\n",
        "   [47,86,19]]\n",
        " \n",
        "C=[[0,0,0],\n",
        "   [0,0,0],\n",
        "   [0,0,0]]\n",
        " \n",
        "for i in range(0,len(C)):\n",
        "  for j in range(0,len(C[0])):\n",
        "    for k in range(0,len(B)):\n",
        "      C[i][j] += A[i][k]*B[k][j]\n",
        "for row in C:\n",
        "  print(row)"
      ],
      "execution_count": null,
      "outputs": [
        {
          "output_type": "stream",
          "text": [
            "[340, 390, 202]\n",
            "[946, 879, 526]\n",
            "[1552, 1368, 850]\n"
          ],
          "name": "stdout"
        }
      ]
    },
    {
      "cell_type": "code",
      "metadata": {
        "colab": {
          "base_uri": "https://localhost:8080/"
        },
        "id": "xKaNLCFWNgYG",
        "outputId": "1865a7b6-1531-4168-9b4a-227aa6d1693a"
      },
      "source": [
        "C = [[111,22,33,44],\n",
        "     [44,55,56,1],\n",
        "     [47,86,19,2],\n",
        "     [1,2,22,3]]\n",
        "D = [[11,22,3,4],\n",
        "     [4,5,6,1],\n",
        "     [7,6,19,2],\n",
        "     [1,2,22,3]]\n",
        "A = [[0,0,0,0],\n",
        "     [0,0,0,0],\n",
        "     [0,0,0,0],\n",
        "     [0,0,0,0]]\n",
        "\n",
        "for i in range(0,len(A)):\n",
        "  for j in range(0,len(A[0])):\n",
        "    for k in range(0,len(D)):\n",
        "      A[i][j] += C[i][j]*D[k][j]\n",
        "\n",
        "for row in A:\n",
        "  print(row)"
      ],
      "execution_count": null,
      "outputs": [
        {
          "output_type": "stream",
          "text": [
            "[2553, 770, 1650, 440]\n",
            "[1012, 1925, 2800, 10]\n",
            "[1081, 3010, 950, 20]\n",
            "[23, 70, 1100, 30]\n"
          ],
          "name": "stdout"
        }
      ]
    },
    {
      "cell_type": "markdown",
      "metadata": {
        "id": "VoG4Xi4DREGy"
      },
      "source": [
        "Generate the following patterns using for loop"
      ]
    },
    {
      "cell_type": "markdown",
      "metadata": {
        "id": "VaQyQWUTRFVO"
      },
      "source": [
        "F\n",
        "\n",
        "FFF\n",
        "\n",
        "FFFFF\n",
        "\n",
        "FFFFFFF\n",
        "\n",
        "FFFFFFFFF\n",
        "\n",
        "FFFFFFFFFFF\n"
      ]
    },
    {
      "cell_type": "code",
      "metadata": {
        "colab": {
          "base_uri": "https://localhost:8080/"
        },
        "id": "JJ0TlPTzU5MD",
        "outputId": "5910c497-c183-4654-eb2e-434f340978c2"
      },
      "source": [
        "rows = 6\n",
        "for i in range(1, rows + 1):\n",
        "    for j in range(1, i - 1):\n",
        "        print('F', end=\"\")\n",
        "    for j in range(i-1,0,-1):\n",
        "        print('F', end=\"\")\n",
        "    print()"
      ],
      "execution_count": null,
      "outputs": [
        {
          "output_type": "stream",
          "text": [
            "\n",
            "F\n",
            "FFF\n",
            "FFFFF\n",
            "FFFFFFF\n",
            "FFFFFFFFF\n"
          ],
          "name": "stdout"
        }
      ]
    },
    {
      "cell_type": "markdown",
      "metadata": {
        "id": "pDo9U8KNVyvw"
      },
      "source": [
        "F\n",
        "\n",
        "F\n",
        "\n",
        "FF\n",
        "\n",
        "FFF\n",
        "\n",
        "FFFFF\n",
        "\n",
        "FFFFFFFF\n",
        "\n",
        "FFFFFFFFFFFFF\n",
        "\n",
        "FFFFFFFFFFFFFFFFFFFFF\n",
        "\n",
        "FFFFFFFFFFFFFFFFFFFFFFFFFFFFFFFFFF\n"
      ]
    },
    {
      "cell_type": "code",
      "metadata": {
        "colab": {
          "base_uri": "https://localhost:8080/"
        },
        "id": "JstFse45V_CV",
        "outputId": "f1f3bfff-1b1b-4a83-c40f-cac234f44110"
      },
      "source": [
        "prev = 0\n",
        "curr = 1\n",
        "for i in range(1,10):\n",
        "  for j in range(0,curr):\n",
        "    print(\"F\",end='')\n",
        "  temp = prev\n",
        "  prev = curr\n",
        "  curr = curr + temp\n",
        "  print('')\n"
      ],
      "execution_count": 1,
      "outputs": [
        {
          "output_type": "stream",
          "text": [
            "F\n",
            "F\n",
            "FF\n",
            "FFF\n",
            "FFFFF\n",
            "FFFFFFFF\n",
            "FFFFFFFFFFFFF\n",
            "FFFFFFFFFFFFFFFFFFFFF\n",
            "FFFFFFFFFFFFFFFFFFFFFFFFFFFFFFFFFF\n"
          ],
          "name": "stdout"
        }
      ]
    }
  ]
}