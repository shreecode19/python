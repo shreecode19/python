{
  "nbformat": 4,
  "nbformat_minor": 0,
  "metadata": {
    "colab": {
      "name": "assignment_1.ipynb",
      "provenance": [],
      "collapsed_sections": [],
      "authorship_tag": "ABX9TyOcxjDK5yBP0Jyc8Mn/troX",
      "include_colab_link": true
    },
    "kernelspec": {
      "display_name": "Python 3",
      "name": "python3"
    },
    "language_info": {
      "name": "python"
    }
  },
  "cells": [
    {
      "cell_type": "markdown",
      "metadata": {
        "id": "view-in-github",
        "colab_type": "text"
      },
      "source": [
        "<a href=\"https://colab.research.google.com/github/shreecode19/python/blob/main/assignment_1.ipynb\" target=\"_parent\"><img src=\"https://colab.research.google.com/assets/colab-badge.svg\" alt=\"Open In Colab\"/></a>"
      ]
    },
    {
      "cell_type": "markdown",
      "metadata": {
        "id": "D_J0w5ak7xBC"
      },
      "source": [
        "1)Write a Python code to calculate Permutation (5,3)"
      ]
    },
    {
      "cell_type": "code",
      "metadata": {
        "id": "CbWd-dMK73l3",
        "colab": {
          "base_uri": "https://localhost:8080/"
        },
        "outputId": "6f22634e-0157-494b-ddab-249effdb9d8d"
      },
      "source": [
        "import math\n",
        "\n",
        "#calculation of permutation\n",
        "\n",
        "a = math.factorial(5)\n",
        "\n",
        "b= math.factorial(5-3)\n",
        "\n",
        "permutation = a/b\n",
        "\n",
        "print(\"permutation of (5,3) is\",permutation)"
      ],
      "execution_count": null,
      "outputs": [
        {
          "output_type": "stream",
          "text": [
            "permutation of (5,3) is 60.0\n"
          ],
          "name": "stdout"
        }
      ]
    },
    {
      "cell_type": "markdown",
      "metadata": {
        "id": "alFq31C_RJJ4"
      },
      "source": [
        "2)Write a Python code to calculate Combination (15,3)"
      ]
    },
    {
      "cell_type": "code",
      "metadata": {
        "colab": {
          "base_uri": "https://localhost:8080/"
        },
        "id": "ekyt-fseRPQV",
        "outputId": "1f954150-558e-4212-d5ea-36c680767494"
      },
      "source": [
        "import math\n",
        "\n",
        "#calculation of combination\n",
        "\n",
        "a = math.factorial(15)\n",
        "\n",
        "b = math.factorial(3)*math.factorial(15-3)\n",
        "\n",
        "combination = a/b\n",
        "\n",
        "print(\"Combination of (15,3) is\",combination)"
      ],
      "execution_count": null,
      "outputs": [
        {
          "output_type": "stream",
          "text": [
            "Combination of (15,3) is 455.0\n"
          ],
          "name": "stdout"
        }
      ]
    },
    {
      "cell_type": "markdown",
      "metadata": {
        "id": "rVqzx_uy-Wyb"
      },
      "source": [
        "3)Write a Python code that takes the degree as input from the user and convert it into radian."
      ]
    },
    {
      "cell_type": "code",
      "metadata": {
        "colab": {
          "base_uri": "https://localhost:8080/"
        },
        "id": "ZGfxn1FW-kED",
        "outputId": "34997ac4-b62e-410e-869d-4cd1b2559e23"
      },
      "source": [
        "#conversion of degree into radian\n",
        "\n",
        "pi= 3.14\n",
        "\n",
        "degree = float(input(\"enter number in degree: \"))\n",
        "\n",
        "radian = degree*(pi/180)\n",
        "\n",
        "print(\"the value of radian is: \",radian)"
      ],
      "execution_count": 3,
      "outputs": [
        {
          "output_type": "stream",
          "text": [
            "enter number in degree: 90\n",
            "the value of radian is:  1.5700000000000003\n"
          ],
          "name": "stdout"
        }
      ]
    },
    {
      "cell_type": "markdown",
      "metadata": {
        "id": "zDCWM2C8Iiy-"
      },
      "source": [
        "4)Write a Python code that inputs input from the user and calculate its square root."
      ]
    },
    {
      "cell_type": "code",
      "metadata": {
        "colab": {
          "base_uri": "https://localhost:8080/"
        },
        "id": "9LrUi7zOInUN",
        "outputId": "955630d9-bfe2-4874-fa2e-6ad3e2ac42c9"
      },
      "source": [
        "n= float(input(\"enter a number to find its square root: \"))\n",
        "\n",
        "result = n**0.5\n",
        "\n",
        "print(\"the square of\",n,\"is:\",result)"
      ],
      "execution_count": null,
      "outputs": [
        {
          "output_type": "stream",
          "text": [
            "enter a number to find its square root: 10\n",
            "the square of 10.0 is: 3.1622776601683795\n"
          ],
          "name": "stdout"
        }
      ]
    },
    {
      "cell_type": "markdown",
      "metadata": {
        "id": "FEt4zb3aMAGD"
      },
      "source": [
        "5)Write a Python code to calculate LCM of (25,55)"
      ]
    },
    {
      "cell_type": "code",
      "metadata": {
        "colab": {
          "base_uri": "https://localhost:8080/"
        },
        "id": "OTSgy0UuMMN6",
        "outputId": "e37a490b-aeb7-4d63-d044-bbdf5980693d"
      },
      "source": [
        "import math\n",
        "\n",
        "a=math.gcd(25,55) # finding hcf\n",
        "\n",
        "print(\"LCM is \" +str(25*55//a))\n"
      ],
      "execution_count": null,
      "outputs": [
        {
          "output_type": "stream",
          "text": [
            "LCM is 275\n"
          ],
          "name": "stdout"
        }
      ]
    },
    {
      "cell_type": "markdown",
      "metadata": {
        "id": "0l0NxXWqNQzI"
      },
      "source": [
        "6)Ask enter to enter two numbers (say, a and b). Generate two random numbers between those two numbers and find a combination of these two newly generated random numbers. "
      ]
    },
    {
      "cell_type": "code",
      "metadata": {
        "colab": {
          "base_uri": "https://localhost:8080/"
        },
        "id": "Inopofv_NUdy",
        "outputId": "7abf6ce2-8788-4302-c2f0-e35f32858eff"
      },
      "source": [
        "import random\n",
        "\n",
        "import math\n",
        "\n",
        "num1 = int(input(\"Enter number: \"))\n",
        "\n",
        "num2 = int(input(\"Enter number: \"))\n",
        "\n",
        "value1 = random.randint(num1,num2)\n",
        "print(value1)\n",
        "\n",
        "value2 = random.randint(num1,num2)\n",
        "print(value2)\n",
        "\n",
        "if(value2 > value1):\n",
        "  combination = (math.factorial(value2))/(math.factorial(value1)*math.factorial(value2-value1))\n",
        "  print(\"Combination of\",(value2,value1),\"is\",combination)\n",
        "else:\n",
        "  combination = (math.factorial(value1))/(math.factorial(value2)*math.factorial(value1-value2))\n",
        "  print(\"Combination of\",(value1,value2),\"is\",combination)\n",
        "\n",
        "import itertools  \n",
        "v = [value1,value2]  \n",
        "    \n",
        "com_seq = itertools.combinations_with_replacement(v, 2)  \n",
        "    \n",
        "for i in com_seq:  \n",
        "    print(i)  "
      ],
      "execution_count": null,
      "outputs": [
        {
          "output_type": "stream",
          "text": [
            "Enter number: 2 \n",
            "Enter number: 7\n",
            "6\n",
            "3\n",
            "Combination of (6, 3) is 20.0\n",
            "(6, 6)\n",
            "(6, 3)\n",
            "(3, 3)\n"
          ],
          "name": "stdout"
        }
      ]
    },
    {
      "cell_type": "markdown",
      "metadata": {
        "id": "8qemxDmADKgu"
      },
      "source": [
        "7)Divide 1000 by 3 and print the answer with only 5 numbers after decimal.\n"
      ]
    },
    {
      "cell_type": "code",
      "metadata": {
        "colab": {
          "base_uri": "https://localhost:8080/"
        },
        "id": "MW_xG3WiDOkw",
        "outputId": "05c9ba7f-af23-471b-f703-30b7b08a5601"
      },
      "source": [
        "import math\n",
        "\n",
        "print(\"%.5f\" % (1000/3))\n"
      ],
      "execution_count": null,
      "outputs": [
        {
          "output_type": "stream",
          "text": [
            "333.33333\n"
          ],
          "name": "stdout"
        }
      ]
    },
    {
      "cell_type": "markdown",
      "metadata": {
        "id": "WGbzPYaIHQNK"
      },
      "source": [
        "8)Write a program to convert 108 to binary."
      ]
    },
    {
      "cell_type": "code",
      "metadata": {
        "colab": {
          "base_uri": "https://localhost:8080/"
        },
        "id": "K389k8o1HTRH",
        "outputId": "15c98b8e-d33b-48b2-9085-807e94e592d2"
      },
      "source": [
        "a = bin(108)\n",
        "\n",
        "print(\"the binary value is:\", a)"
      ],
      "execution_count": null,
      "outputs": [
        {
          "output_type": "stream",
          "text": [
            "the binary value is: 0b1101100\n"
          ],
          "name": "stdout"
        }
      ]
    },
    {
      "cell_type": "markdown",
      "metadata": {
        "id": "W-MEKK0OLCgs"
      },
      "source": [
        "9)Write a program to convert 1008 to hexadecimal."
      ]
    },
    {
      "cell_type": "code",
      "metadata": {
        "colab": {
          "base_uri": "https://localhost:8080/"
        },
        "id": "BvLAl8VRLEx4",
        "outputId": "0f6f11ca-9841-42c5-b1fc-f185b58b41b6"
      },
      "source": [
        "a = hex(1008)\n",
        "\n",
        "print(\"the hexadecimal value is:\",a)"
      ],
      "execution_count": null,
      "outputs": [
        {
          "output_type": "stream",
          "text": [
            "the hexadecimal value is: 0x3f0\n"
          ],
          "name": "stdout"
        }
      ]
    },
    {
      "cell_type": "markdown",
      "metadata": {
        "id": "a5LuhAjJDSdP"
      },
      "source": [
        "10)write the summary of everything you learnt."
      ]
    },
    {
      "cell_type": "code",
      "metadata": {
        "id": "3WzvXnIMJwTf"
      },
      "source": [
        "a) first we learnt to use print in python\n",
        "b) then we learnt to use comment\n",
        "c) learned about variable, its rules, how to assign value to variable\n",
        "d) learned about strings, casting(knowing about type of data), numbers and its datatypes\n",
        "e) learned how to take input from user, learned to sovle simple math problems, and different formatting technique"
      ],
      "execution_count": null,
      "outputs": []
    }
  ]
}