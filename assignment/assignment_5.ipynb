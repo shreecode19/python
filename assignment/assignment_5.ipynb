{
  "nbformat": 4,
  "nbformat_minor": 0,
  "metadata": {
    "colab": {
      "name": "assignment_5.ipynb",
      "provenance": [],
      "collapsed_sections": [],
      "include_colab_link": true
    },
    "kernelspec": {
      "name": "python3",
      "display_name": "Python 3"
    },
    "language_info": {
      "name": "python"
    }
  },
  "cells": [
    {
      "cell_type": "markdown",
      "metadata": {
        "id": "view-in-github",
        "colab_type": "text"
      },
      "source": [
        "<a href=\"https://colab.research.google.com/github/shreecode19/python/blob/main/assignment_5.ipynb\" target=\"_parent\"><img src=\"https://colab.research.google.com/assets/colab-badge.svg\" alt=\"Open In Colab\"/></a>"
      ]
    },
    {
      "cell_type": "markdown",
      "metadata": {
        "id": "moHKfrctDb0E"
      },
      "source": [
        "1. Students = [‘jack’,’jill’,’david’,’silva’,’ronaldo’]\n",
        "\n",
        "Marks = [‘55’,’56’,’57’,’66’,’76’]\n",
        "Make a dictionary using lists above and delete the key-value (students:marks) pairs with lowest marks. \n",
        "\n"
      ]
    },
    {
      "cell_type": "code",
      "metadata": {
        "id": "nzT0qVReCNM0",
        "colab": {
          "base_uri": "https://localhost:8080/"
        },
        "outputId": "ba9657b0-1762-4f0f-de6c-57c4f43ab4ff"
      },
      "source": [
        "students = ['jack','jill','david','silva','ronaldo']\n",
        "\n",
        "marks = ['55','56','57','66','76']\n",
        "\n",
        "result = {}\n",
        "\n",
        "for a in students:\n",
        "  \n",
        "    for b in marks:\n",
        "      \n",
        "        result[a] = b\n",
        "        \n",
        "        marks.remove(b)\n",
        "        \n",
        "        break  \n",
        "        \n",
        "print(result)\n",
        "\n",
        "a = min(result, key=result.get)\n",
        "\n",
        "del result[a]\n",
        "\n",
        "print(\"\\n\", result)"
      ],
      "execution_count": null,
      "outputs": [
        {
          "output_type": "stream",
          "text": [
            "{'jack': '55', 'jill': '56', 'david': '57', 'silva': '66', 'ronaldo': '76'}\n",
            "\n",
            " {'jill': '56', 'david': '57', 'silva': '66', 'ronaldo': '76'}\n"
          ],
          "name": "stdout"
        }
      ]
    },
    {
      "cell_type": "markdown",
      "metadata": {
        "id": "x5D47jgEVucY"
      },
      "source": [
        "2. Euro = {‘France’:5,’Germany’:2,’Portugal’:3,’Hungary’:6}\n",
        "\n",
        "Make two lists from above dictionary\n"
      ]
    },
    {
      "cell_type": "code",
      "metadata": {
        "id": "IxJUOnKjVuLM",
        "colab": {
          "base_uri": "https://localhost:8080/"
        },
        "outputId": "1abc1eb2-0182-4d51-aa9c-9a471326aca0"
      },
      "source": [
        "Euro = {'France':5,'Germany':2,'Portugal':3,'Hungary':6}\n",
        "\n",
        "print(\"List of countries = \",list(Euro.keys()))\n",
        "\n",
        "print(\"List of repetition = \", list(Euro.values()))"
      ],
      "execution_count": null,
      "outputs": [
        {
          "output_type": "stream",
          "text": [
            "List of countries =  ['France', 'Germany', 'Portugal', 'Hungary']\n",
            "List of repetition =  [5, 2, 3, 6]\n"
          ],
          "name": "stdout"
        }
      ]
    },
    {
      "cell_type": "markdown",
      "metadata": {
        "id": "0MrvqhFOlUOM"
      },
      "source": [
        "3. users = {'g91':{'name':'Aron','age':55,'poison':'Old monk'},\n",
        "        'twir56':{'name':'Visakha','age':26,'poison':'coca cola'},\n",
        "        'jsdl8':{'name':'Saudi','age':12,'poison':'hinwa'}}\n",
        "Generate a list of usernames, name, age and poison from the above dictionary.\n"
      ]
    },
    {
      "cell_type": "code",
      "metadata": {
        "id": "unr2VRzflTg4",
        "colab": {
          "base_uri": "https://localhost:8080/"
        },
        "outputId": "9873437f-17c7-4e97-fb3e-1a0b4565a32d"
      },
      "source": [
        " users = {'g91':{'name':'Aron','age':55,'poison':'Old monk'},\n",
        "        'twir56':{'name':'Visakha','age':26,'poison':'coca cola'},\n",
        "        'jsdl8':{'name':'Saudi','age':12,'poison':'hinwa'}}\n",
        "\n",
        "username = [i for i in users]\n",
        "\n",
        "print(\"List of username: \", username)\n",
        "\n",
        "name = [users['g91']['name'], users['twir56']['name'], users['jsdl8']['name']]\n",
        "\n",
        "print(\"List of Names: \", name)\n",
        "\n",
        "age = [users['g91']['age'], users['twir56']['age'], users['jsdl8']['age']]\n",
        "\n",
        "print(\"List of Ages: \", age)\n",
        "\n",
        "poison = [users['g91']['poison'], users['twir56']['poison'], users['jsdl8']['poison']]\n",
        "\n",
        "print(\"List of Poisons: \", poison)"
      ],
      "execution_count": null,
      "outputs": [
        {
          "output_type": "stream",
          "text": [
            "List of username:  ['g91', 'twir56', 'jsdl8']\n",
            "List of Names:  ['Aron', 'Visakha', 'Saudi']\n",
            "List of Ages:  [55, 26, 12]\n",
            "List of Poisons:  ['Old monk', 'coca cola', 'hinwa']\n"
          ],
          "name": "stdout"
        }
      ]
    },
    {
      "cell_type": "markdown",
      "metadata": {
        "id": "2A_0u00SVW34"
      },
      "source": [
        "4. Take the above list and put it in order."
      ]
    },
    {
      "cell_type": "code",
      "metadata": {
        "id": "WEwB6mxD4Kwg",
        "colab": {
          "base_uri": "https://localhost:8080/"
        },
        "outputId": "d0c344fc-810f-458e-cfcd-da04c8b518d8"
      },
      "source": [
        "list.sort(username), print(username)\n",
        "\n",
        "list.sort(name), print(name)\n",
        "\n",
        "list.sort(age), print(age)\n",
        "\n",
        "list.sort(poison)\n",
        "\n",
        "print(poison)"
      ],
      "execution_count": null,
      "outputs": [
        {
          "output_type": "stream",
          "text": [
            "['g91', 'jsdl8', 'twir56']\n",
            "['Aron', 'Saudi', 'Visakha']\n",
            "[12, 26, 55]\n",
            "['Old monk', 'coca cola', 'hinwa']\n"
          ],
          "name": "stdout"
        }
      ]
    },
    {
      "cell_type": "markdown",
      "metadata": {
        "id": "Jx9PW6R4rcNs"
      },
      "source": [
        "5. Create an empty dictionary called milk_carton. Add the following key/value pairs.You can make up the values or use a real milk carton.\n",
        "Expiration_date: a tuple with day, month, year\n",
        "Vol: volume of milk \n",
        "Cost: cost of milk\n",
        "Brand_name\n"
      ]
    },
    {
      "cell_type": "code",
      "metadata": {
        "id": "yLOpI3UfrcCw",
        "colab": {
          "base_uri": "https://localhost:8080/"
        },
        "outputId": "31d5696a-35c2-47bc-a248-434be35f48b3"
      },
      "source": [
        "milk_carton = { }\n",
        "\n",
        "milk_carton['amul'] = {'Exp date':'(09,02,2021)','Vol':'2L','Cost':'400','Brand_name':'Amul'}\n",
        "\n",
        "milk_carton['ddc'] = {'Exp date':'(02,03,2021)','Vol':'1L','Cost':'200','Brand_name':'DDC'}\n",
        "\n",
        "milk_carton['nestle'] = {'Exp date':'(02,03,2021)','Vol':'1L','Cost':'200','Brand_name':'DDC'}\n",
        "\n",
        "milk_carton['everyday'] = {'Exp date':'(23,01,2021)','Vol':'3L','Cost':'600','Brand_name':'Everyday'}\n",
        "\n",
        "print(milk_carton)"
      ],
      "execution_count": null,
      "outputs": [
        {
          "output_type": "stream",
          "text": [
            "{'amul': {'Exp date': '(09,02,2021)', 'Vol': '2L', 'Cost': '400', 'Brand_name': 'Amul'}, 'ddc': {'Exp date': '(02,03,2021)', 'Vol': '1L', 'Cost': '200', 'Brand_name': 'DDC'}, 'nestle': {'Exp date': '(02,03,2021)', 'Vol': '1L', 'Cost': '200', 'Brand_name': 'DDC'}, 'everyday': {'Exp date': '(23,01,2021)', 'Vol': '3L', 'Cost': '600', 'Brand_name': 'Everyday'}}\n"
          ],
          "name": "stdout"
        }
      ]
    },
    {
      "cell_type": "markdown",
      "metadata": {
        "id": "OaGTzEVDsiso"
      },
      "source": [
        "6.  Print out the values of all of the elements of the milk_carton using the values in the dictionary."
      ]
    },
    {
      "cell_type": "code",
      "metadata": {
        "id": "aSY_LGRFsJ90",
        "colab": {
          "base_uri": "https://localhost:8080/"
        },
        "outputId": "f94d7680-2b16-4b00-c85a-c83ac5e6b9f7"
      },
      "source": [
        "exp_date = [(milk_carton['amul']['Exp date']), (milk_carton['ddc']['Exp date']), (milk_carton['nestle']['Exp date']), (milk_carton['everyday']['Exp date'])]\n",
        "\n",
        "vol = [(milk_carton['amul']['Vol']), (milk_carton['ddc']['Vol']), (milk_carton['nestle']['Vol']), (milk_carton['everyday']['Vol'])]\n",
        "\n",
        "cost = [(milk_carton['amul']['Cost']), (milk_carton['ddc']['Cost']), (milk_carton['nestle']['Cost']), (milk_carton['everyday']['Cost'])]\n",
        "\n",
        "brandname = [(milk_carton['amul']['Brand_name']), (milk_carton['ddc']['Brand_name']), (milk_carton['nestle']['Brand_name']), (milk_carton['everyday']['Brand_name'])]\n",
        "\n",
        "print(\"The values of Expiry date are: \", exp_date)\n",
        "\n",
        "print(\"The values of Volumes are: \", vol)\n",
        "\n",
        "print(\"The values of Costs are: \", cost)\n",
        "\n",
        "print(\"The values of  Brand Names are: \", brandname)"
      ],
      "execution_count": null,
      "outputs": [
        {
          "output_type": "stream",
          "text": [
            "The values of Expiry date are:  ['(09,02,2021)', '(02,03,2021)', '(02,03,2021)', '(23,01,2021)']\n",
            "The values of Volumes are:  ['2L', '1L', '1L', '3L']\n",
            "The values of Costs are:  ['400', '200', '200', '600']\n",
            "The values of  Brand Names are:  ['Amul', 'DDC', 'DDC', 'Everyday']\n"
          ],
          "name": "stdout"
        }
      ]
    },
    {
      "cell_type": "markdown",
      "metadata": {
        "id": "WcQkILT6so38"
      },
      "source": [
        "7. Show how to calculate the cost of six cartons of milk based on the cost of the milk_carton."
      ]
    },
    {
      "cell_type": "code",
      "metadata": {
        "id": "dmYonJO0souk",
        "colab": {
          "base_uri": "https://localhost:8080/"
        },
        "outputId": "e3183139-c7a6-4a5c-fab0-82d35ab22b6b"
      },
      "source": [
        "price = int(milk_carton['amul']['Cost'])\n",
        "\n",
        "print(\"The cost of six milk cartons is: \", price * 6)"
      ],
      "execution_count": null,
      "outputs": [
        {
          "output_type": "stream",
          "text": [
            "The cost of six milk cartons is:  2400\n"
          ],
          "name": "stdout"
        }
      ]
    }
  ]
}