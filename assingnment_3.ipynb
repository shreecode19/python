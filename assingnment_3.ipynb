{
  "nbformat": 4,
  "nbformat_minor": 0,
  "metadata": {
    "colab": {
      "name": "assingnment_3.ipynb",
      "provenance": [],
      "collapsed_sections": [
        "ejo0WuOUtfdc",
        "h17x2Lv42MJx",
        "9pVHtio-HHQR",
        "W5ZGE5d-IDWc",
        "gSq7nu9PIHdi",
        "m29higqpIYte"
      ],
      "authorship_tag": "ABX9TyOglo7zkChJYzpzvzgG3svV",
      "include_colab_link": true
    },
    "kernelspec": {
      "name": "python3",
      "display_name": "Python 3"
    },
    "language_info": {
      "name": "python"
    }
  },
  "cells": [
    {
      "cell_type": "markdown",
      "metadata": {
        "id": "view-in-github",
        "colab_type": "text"
      },
      "source": [
        "<a href=\"https://colab.research.google.com/github/shreecode19/python/blob/main/assingnment_3.ipynb\" target=\"_parent\"><img src=\"https://colab.research.google.com/assets/colab-badge.svg\" alt=\"Open In Colab\"/></a>"
      ]
    },
    {
      "cell_type": "markdown",
      "metadata": {
        "id": "ejo0WuOUtfdc"
      },
      "source": [
        "### Make a list of ten students in your class. Print the name of each student whose name starts with ‘B’."
      ]
    },
    {
      "cell_type": "code",
      "metadata": {
        "colab": {
          "base_uri": "https://localhost:8080/"
        },
        "id": "G5_rfk9atpkr",
        "outputId": "cf32bd70-d472-45e2-b88b-ad23da6f6825"
      },
      "source": [
        "names = [ 'Suvaya' , 'Ayush' , 'Nayan' , \"AlishB\" , 'Shrijan' , 'Shreejan' , 'Reason' , 'Nischal' , 'Binod' , 'Bibek']\n",
        "\n",
        "for name in names:\n",
        "\n",
        "#selecting names with first letter B\n",
        " if name[0] == 'B':\n",
        "   \n",
        "   print(name)\n",
        "\n"
      ],
      "execution_count": null,
      "outputs": [
        {
          "output_type": "stream",
          "text": [
            "Binod\n",
            "Bibek\n"
          ],
          "name": "stdout"
        }
      ]
    },
    {
      "cell_type": "markdown",
      "metadata": {
        "id": "h17x2Lv42MJx"
      },
      "source": [
        "### Make a list of ten students in your class. Print the name of each student whose name ends with ‘a’."
      ]
    },
    {
      "cell_type": "code",
      "metadata": {
        "colab": {
          "base_uri": "https://localhost:8080/"
        },
        "id": "dZxFnHyx2SuT",
        "outputId": "140f0696-9d65-49cd-fbc7-d2f2aa496a93"
      },
      "source": [
        "names = [ 'Suvaya' , 'Ayusha' , 'Nayan' , \"Alisha\" , 'Shrijan' , 'Shreejan' , 'Reason' , 'Nischal' , 'Binod' , 'Bibek']\n",
        "\n",
        "print(list(filter(lambda x: x.lower().endswith(\"a\"), names)) )"
      ],
      "execution_count": null,
      "outputs": [
        {
          "output_type": "stream",
          "text": [
            "['Suvaya', 'Ayusha', 'Alisha']\n"
          ],
          "name": "stdout"
        }
      ]
    },
    {
      "cell_type": "markdown",
      "metadata": {
        "id": "9pVHtio-HHQR"
      },
      "source": [
        "### Print all the unique elements in the following list \n",
        "fifa = ['Italy' , 'Argentina' , 'Germany' , 'Brazil' , 'France' , 'Brazil' , 'Italy' , 'Spain' , 'Germany' , 'France']"
      ]
    },
    {
      "cell_type": "code",
      "metadata": {
        "colab": {
          "base_uri": "https://localhost:8080/"
        },
        "id": "nAQqTdyiHT2r",
        "outputId": "350926da-5ade-4c62-bf25-e4ff681888cf"
      },
      "source": [
        "fifa = ['Italy' , 'Argentina' , 'Germany' , 'Brazil' , 'France' , 'Brazil' , 'Italy' , 'Spain' , 'Germany' , 'France']\n",
        "\n",
        "unique_list = set(fifa)\n",
        "\n",
        "#converting into list\n",
        "a = list(unique_list)\n",
        "\n",
        "print(a)"
      ],
      "execution_count": null,
      "outputs": [
        {
          "output_type": "stream",
          "text": [
            "['Italy', 'Argentina', 'Spain', 'Germany', 'France', 'Brazil']\n"
          ],
          "name": "stdout"
        }
      ]
    },
    {
      "cell_type": "markdown",
      "metadata": {
        "id": "W5ZGE5d-IDWc"
      },
      "source": [
        "### Change the first alphabet of all elements of the following list to capital.\n",
        "Bob = [‘hurricane’ , ’tambourine’ , ’blowing’ , ’numb’]\n"
      ]
    },
    {
      "cell_type": "code",
      "metadata": {
        "colab": {
          "base_uri": "https://localhost:8080/"
        },
        "id": "ZVqa3cgvMBFB",
        "outputId": "cb7103a3-81d2-4ddb-ae2a-32cfedc24fff"
      },
      "source": [
        "Bob = ['hurricane' , 'tambourine' , 'blowing' , 'numb']\n",
        "\n",
        "#converting first alphabet to capital\n",
        "lst = [x.upper() for x in Bob]\n",
        "\n",
        "print(lst)\n"
      ],
      "execution_count": null,
      "outputs": [
        {
          "output_type": "stream",
          "text": [
            "['HURRICANE', 'TAMBOURINE', 'BLOWING', 'NUMB']\n"
          ],
          "name": "stdout"
        }
      ]
    },
    {
      "cell_type": "markdown",
      "metadata": {
        "id": "gSq7nu9PIHdi"
      },
      "source": [
        "### A = [‘a’ , ’b’ , ’c’ , ’d’] B = [‘1’ , ’a’ , ’2’ , ’b’]\n",
        "Find AUB and A∩B "
      ]
    },
    {
      "cell_type": "code",
      "metadata": {
        "colab": {
          "base_uri": "https://localhost:8080/"
        },
        "id": "0VQGmEx8If3m",
        "outputId": "2a28e077-d314-4402-a3fa-bdc956736bd8"
      },
      "source": [
        "A = ['a', 'b' , 'c' , 'd']\n",
        "B = ['1' , 'a' , '2' , 'b'] \n",
        "\n",
        "#for union\n",
        "union = list(set(A) | set(B))\n",
        "\n",
        "print(\"AUB =\",union)\n",
        "\n",
        "\n",
        "#for intersection\n",
        "intersection = list(set(A) & set(B))\n",
        "\n",
        "print(\"A∩B =\",intersection)"
      ],
      "execution_count": null,
      "outputs": [
        {
          "output_type": "stream",
          "text": [
            "AUB = ['b', '2', 'd', '1', 'a', 'c']\n",
            "A∩B = ['a', 'b']\n"
          ],
          "name": "stdout"
        }
      ]
    },
    {
      "cell_type": "code",
      "metadata": {
        "colab": {
          "base_uri": "https://localhost:8080/"
        },
        "id": "Ora0tjnRWtZT",
        "outputId": "02872476-b280-4f0e-985a-2e84623a5f3b"
      },
      "source": [
        "def union(A, B): \n",
        "    lst3 = A + [value for value in B if value not in A] \n",
        "    return lst3 \n",
        "  \n",
        "A = ['a', 'b' , 'c' , 'd']\n",
        "B = ['1' , 'a' , '2' , 'b']\n",
        "print(\"AUB =\",union(A, B)) "
      ],
      "execution_count": null,
      "outputs": [
        {
          "output_type": "stream",
          "text": [
            "AUB = ['a', 'b', 'c', 'd', '1', '2']\n"
          ],
          "name": "stdout"
        }
      ]
    },
    {
      "cell_type": "code",
      "metadata": {
        "colab": {
          "base_uri": "https://localhost:8080/"
        },
        "id": "5P4_-q8vYbdL",
        "outputId": "7ab0db98-9eef-4450-db7b-f5dd05dd68a7"
      },
      "source": [
        "def intersection(A, B): \n",
        "    lst3 = [value for value in A if value in B] \n",
        "    return lst3 \n",
        "  \n",
        "A = ['a', 'b' , 'c' , 'd']\n",
        "B = ['1' , 'a' , '2' , 'b']\n",
        "print(\"A∩B=\",intersection(A, B))"
      ],
      "execution_count": null,
      "outputs": [
        {
          "output_type": "stream",
          "text": [
            "A∩B= ['a', 'b']\n"
          ],
          "name": "stdout"
        }
      ]
    },
    {
      "cell_type": "markdown",
      "metadata": {
        "id": "m29higqpIYte"
      },
      "source": [
        "###Calculate the mean and standard deviation of the following list:\n",
        "Numbers = [1,2,3,5,88,99,55,33,41,52]"
      ]
    },
    {
      "cell_type": "code",
      "metadata": {
        "colab": {
          "base_uri": "https://localhost:8080/"
        },
        "id": "kdlp7F7fIejH",
        "outputId": "bb0a5dcc-9ef9-46f3-982a-deabef0fc8be"
      },
      "source": [
        "#importing statistics module\n",
        "import statistics\n",
        "\n",
        "Numbers = [1,2,3,5,88,99,55,33,41,52]\n",
        "\n",
        "#sum of numbers in given list\n",
        "a = sum(Numbers)\n",
        "\n",
        "#number of items in given list\n",
        "b = len(Numbers)\n",
        "\n",
        "#calculating mean\n",
        "mean = a/b\n",
        "\n",
        "print(\"The mean of given list is\", mean)\n",
        "\n",
        "#calculating Standard deviation and printing it\n",
        "print(\"Standard Deviation of the Numbers is % s \" %(statistics.stdev(Numbers)))"
      ],
      "execution_count": null,
      "outputs": [
        {
          "output_type": "stream",
          "text": [
            "The mean of given list is 37.9\n",
            "Standard Deviation of the Numbers is 36.08462276372028 \n"
          ],
          "name": "stdout"
        }
      ]
    }
  ]
}